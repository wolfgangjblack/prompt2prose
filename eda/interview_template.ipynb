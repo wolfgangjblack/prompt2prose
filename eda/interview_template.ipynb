{
  "cells": [
    {
      "cell_type": "code",
      "execution_count": 1,
      "metadata": {
        "id": "NzonkeYuyQab"
      },
      "outputs": [],
      "source": [
        "# Initialize OpenAI (if Needed)\n",
        "import sys\n",
        "\n",
        "# Add the parent directory to the system path\n",
        "sys.path.append('..')\n",
        "\n",
        "from utils import BeatToStory\n",
        "\n",
        "beatbot = BeatToStory()\n"
      ]
    },
    {
      "cell_type": "markdown",
      "metadata": {
        "id": "ijHdY8Ay0QMe"
      },
      "source": [
        "## Prose Generation Coding Task\n",
        "\n",
        "The challenge involves creating a backend system that transforms a series of bulleted \"beats\" into well-crafted prose that you would find in a novel. This tool is designed to aid writers in fleshing out as scene based on their outlines.\n",
        "\n",
        "**Part 1: Beats-to-Prose**\n",
        "Given a set of story beats, like this set for a sci-fi chapter:\n",
        "\n",
        "1. Begin the chapter with Jack and Xander continuing their excavation on the lunar surface,\n",
        "creating a sense of tension and anticipation.\n",
        "2. Describe the barren landscape of the moon, emphasizing its desolation and the isolation\n",
        "felt by Jack and Xander.\n",
        "3. Use vivid and descriptive language to portray the moment when Jack and Xander uncover\n",
        "an alien artifact, highlighting its mysterious and otherworldly appearance.\n",
        "4. Convey Jack's excitement and trepidation as he realizes the significance of the discovery\n",
        "and the potential implications it holds for humanity.\n",
        "5. Show Jack immediately contacting Dr. Selene Thorne, emphasizing his trust in her and the\n",
        "urgency of the situation.\n",
        "6. Include dialogue between Jack and Dr. Thorne, showcasing their professional relationship\n",
        "and the gravity of the situation.\n",
        "7. Highlight the importance of the discovery and the potential consequences it could have on\n",
        "Earth and the lunar mining project.\n",
        "8. Show Jack and Xander waiting anxiously for further instructions from Dr. Thorne, creating a\n",
        "sense of anticipation and uncertainty.\n",
        "9. Emphasize the isolation and vastness of the lunar landscape, reinforcing the challenges\n",
        "and dangers that Jack and Xander face.\n",
        "10. Use sensory details to immerse the reader in the lunar environment, such as the crunch of\n",
        "lunar soil beneath their boots and the cold, airless atmosphere.\n",
        "11. Portray Jack's determination and resolve to protect the discovery, even in the face of\n",
        "potential conflict with rival miners.\n",
        "12. Hint at the potential dangers and obstacles that Jack and Xander may encounter as they\n",
        "navigate through a world of corporate greed and betrayal.\n",
        "13. Foreshadow the secrets and mysteries that the alien artifact holds, building intrigue and\n",
        "anticipation for future chapters.\n",
        "14. End the chapter with a cliffhanger or unresolved tension, leaving the reader eager to\n",
        "continue reading and discover what happens next.\n",
        "\n",
        "Use these beats to produce ~1500 words of prose that matches these beats - in other words, if\n",
        "a human were to summarize the prose, they would produce something along the lines of these\n",
        "beats. It's okay to hallucinate details if they are missing from the beats in order to create the\n",
        "narrative. Target approximately 100-150 words of output per beat. You are allowed to use any LLM or NLP techniques, including open source and closed source services like GPT or Claude.\n",
        "\n",
        "\n"
      ]
    },
    {
      "cell_type": "code",
      "execution_count": 2,
      "metadata": {
        "id": "9yk71CWe0wky"
      },
      "outputs": [],
      "source": [
        "# Test Input\n",
        "TEST_BEATS_INPUT = [\n",
        "    \"Begin the chapter with Jack and Xander continuing their excavation on the lunar surface, creating a sense of tension and anticipation.\",\n",
        "    \"Describe the barren landscape of the moon, emphasizing its desolation and the isolation felt by Jack and Xander.\",\n",
        "    \"Use vivid and descriptive language to portray the moment when Jack and Xander uncover an alien artifact, highlighting its mysterious and otherworldly appearance.\",\n",
        "    \"Convey Jack's excitement and trepidation as he realizes the significance of the discovery and the potential implications it holds for humanity.\",\n",
        "    \"Show Jack immediately contacting Dr. Selene Thorne, emphasizing his trust in her and the urgency of the situation.\",\n",
        "    \"Include dialogue between Jack and Dr. Thorne, showcasing their professional relationship and the gravity of the situation.\",\n",
        "    \"Highlight the importance of the discovery and the potential consequences it could have on Earth and the lunar mining project.\",\n",
        "    \"Show Jack and Xander waiting anxiously for further instructions from Dr. Thorne, creating a sense of anticipation and uncertainty.\",\n",
        "    \"Emphasize the isolation and vastness of the lunar landscape, reinforcing the challenges and dangers that Jack and Xander face.\",\n",
        "    \"Use sensory details to immerse the reader in the lunar environment, such as the crunch of lunar soil beneath their boots and the cold, airless atmosphere.\",\n",
        "    \"Portray Jack's determination and resolve to protect the discovery, even in the face of potential conflict with rival miners.\",\n",
        "    \"Hint at the potential dangers and obstacles that Jack and Xander may encounter as they navigate through a world of corporate greed and betrayal.\",\n",
        "    \"Foreshadow the secrets and mysteries that the alien artifact holds, building intrigue and anticipation for future chapters.\",\n",
        "    \"End the chapter with a cliffhanger or unresolved tension, leaving the reader eager to continue reading and discover what happens next.\"\n",
        "]"
      ]
    },
    {
      "cell_type": "markdown",
      "metadata": {},
      "source": [
        "## Agentic with context"
      ]
    },
    {
      "cell_type": "code",
      "execution_count": 3,
      "metadata": {},
      "outputs": [],
      "source": [
        "beatbot.beats = TEST_BEATS_INPUT\n",
        "beatbot.setup_pipeline()"
      ]
    },
    {
      "cell_type": "code",
      "execution_count": 4,
      "metadata": {},
      "outputs": [
        {
          "name": "stdout",
          "output_type": "stream",
          "text": [
            "ContextAgent\n",
            " llm: gpt-3.5-turbo -Note: Only GPT support atm \n",
            " Agentic Prompt:You are ContextAgent. Your job is to extract key scene details from a story beat and compare it with the previous scene context (if provided). \n",
            "        Focus on the following:\n",
            "        1. Location: Identify the scene's location. If the new beat describes a location that is essentially the same as the previous context (e.g., the same forest or room), then set 'location_change' to false. Only mark it as true if the beat explicitly indicates a change (for example, 'they enter a cabin' when the previous context was a forest). If no location information is specified, maintain location from the previous beat\n",
            "        2. Characters: List each character mentioned in the beat along with their role in the scene. For each character, output their 'character_location' (e.g., 'on stage' if present in the scene, or 'off stage' if only mentioned remotely) and 'status_change': mark false if their role is unchanged from the previous context, or true if the beat indicates a new presence or a different mode of engagement.\n",
            "        Return your answer strictly as JSON with keys: 'location', 'location_change', and 'characters' (which is a list of objects with keys 'name', 'character_location', and 'status_change').\n",
            "        If no previous context is provided, assume this is the first beat and set all _change flags to false.\n",
            "\n",
            "\n",
            "ProseAgent\n",
            " llm: gpt-3.5-turbo -Note: Only GPT support atm \n",
            " Agentic Prompt:You are ProseAgent, a creative writing assistant specialized in connecting narrative story beats.\n",
            "        Current scene context: {context_summary}Before writing, think through the key scene details: confirm the location and ensure all characters are actively engaged.\n",
            "        Before writing, outline the scene - confirm the previous details of the story and the current story beat, and make sure the story flows normally.\n",
            "        For instance, if a communication has ended - don't continue that conversation. Try not to repeat phrases too often, or start sentences with repetitive language.\n",
            "        Think about the story setting. What do physics allow? What is the mood and scene?\n",
            "        Do not introduce new plot elements or extraneous details. Your final passage must be between 100 and 150 words.\n",
            "        Aim closer to 150 words for a more detailed passage.\n",
            "\n",
            "\n",
            "StoryAgent\n",
            " llm: gpt-3.5-turbo -Note: Only GPT support atm \n",
            " Agentic Prompt:You are StoryAgent, a narrative consistency checker. Your task is to verify that the given passage\n",
            "        adequately moves the story forward between these beats. The passage should:\n",
            "        1. Not contradict either beat\n",
            "        2. Make logical progress from the first beat toward the second\n",
            "        3. Not introduce major new elements not implied by the beats\n",
            "        Return ONLY 'True' if these conditions are met, or ONLY 'False' if not.\n",
            "\n",
            "\n",
            "LengthAgent\n",
            " llm: gpt-3.5-turbo -Note: Only GPT support atm \n",
            " Agentic Prompt:\n",
            "        This is LengthAgent, a word count validator. Your task is to check whether the newly generated passage meets the desired length.\n",
            "        Note: This does not use an AI model; it simply determines if the passage has between min_words and max_words (inclusive).\n",
            "        \n",
            "\n",
            "\n",
            "FlowAgent\n",
            " llm: gpt-3.5-turbo -Note: Only GPT support atm \n",
            " Agentic Prompt:You are FlowAgent, an expert in narrative refinement. You act as an editor for a creative writing magazine\n",
            "        Your task is to review the entire story and improve its language flow and stylistic variation while maintaining the original plot and context.\n",
            "        Ensure that the narrative is engaging, that sentence structures are varied, and that the vocabulary is dynamic.\n",
            "        Avoid flowery language, adding detais or being verbose. Focus on enhancing the narrative's readability and coherence.\n",
            "        Check for dubious details. Do tools make sounds in space? Are the characters consistent? Are the locations accurate?\n",
            "        Do not alter any factual details, change the location, or add new plot points—simply polish the text.\n",
            "        Try to maintain the original tone and mood of the story.\n",
            "        Try to aim for around {max_words} in your edited version.\n",
            "\n"
          ]
        }
      ],
      "source": [
        "print(beatbot.describe_pipeline())"
      ]
    },
    {
      "cell_type": "code",
      "execution_count": 5,
      "metadata": {},
      "outputs": [
        {
          "data": {
            "text/plain": [
              "{'context': 0.0,\n",
              " 'prose': 0.0,\n",
              " 'story': 0.0,\n",
              " 'length': 0.0,\n",
              " 'flow': 0.0,\n",
              " 'total': 0.0}"
            ]
          },
          "execution_count": 5,
          "metadata": {},
          "output_type": "execute_result"
        }
      ],
      "source": [
        "beatbot.pipeline_cost()"
      ]
    },
    {
      "cell_type": "code",
      "execution_count": 6,
      "metadata": {},
      "outputs": [
        {
          "name": "stdout",
          "output_type": "stream",
          "text": [
            "1513\n",
            "1494\n",
            "{'context': 0.004314500000000001, 'prose': 0.006546000000000001, 'story': 0.0025344999999999994, 'length': 0.0, 'flow': 0.0039025, 'total': 0.0172975}\n"
          ]
        }
      ],
      "source": [
        "beatbot.pipe()\n",
        "print(len(beatbot.story.split()))\n",
        "print(beatbot.story_length)\n",
        "print(beatbot.pipeline_cost())"
      ]
    },
    {
      "cell_type": "code",
      "execution_count": 7,
      "metadata": {},
      "outputs": [
        {
          "name": "stdout",
          "output_type": "stream",
          "text": [
            "{'beat_0': {'attempts': 1, 'passage': \"Jack and Xander toiled under the lunar sky, their tools clinking against rocks as they excavated. The desolate landscape stretched endlessly around them, a stark reminder of their isolation. The tension between them was palpable, each lost in their thoughts yet connected by the weight of their mission. As they delved deeper into the moon's surface, the anticipation grew, mingling with the eerie silence that enveloped them. The barren expanse seemed to echo their every movement, amplifying the sense of unease that lingered between the two explorers. In this vast emptiness, their excavation became more than just a scientific endeavor; it became a test of their resilience and their bond in the face of the moon's unforgiving solitude.\", 'passage_length': 118, 'exceeded_max_attempts': False}, 'beat_1': {'attempts': 1, 'passage': \"As Jack and Xander's tools scraped against the lunar soil, a glint caught Jack's eye. With careful precision, he unearthed an alien artifact, its surface shimmering with an ethereal glow. The artifact pulsated softly, casting an eerie light that danced across the desolate landscape. Xander's breath caught in awe as they beheld the mysterious object, its intricate markings hinting at a civilization far beyond their understanding. The artifact seemed to hum with a strange energy, filling the air with a sense of the unknown. In this moment, amidst the barren expanse of the moon, Jack and Xander stood face to face with a relic from a world beyond their own, a silent witness to the vast mysteries of the universe.\", 'passage_length': 120, 'exceeded_max_attempts': False}, 'beat_2': {'attempts': 1, 'passage': \"Jack's hands trembled with a mix of excitement and trepidation as he cradled the alien artifact. The weight of its discovery settled heavily on his shoulders, the implications swirling in his mind. Could this be the key to unlocking the secrets of the universe? Or a harbinger of unforeseen consequences for humanity? His heart raced with the thrill of the unknown, the pulsating artifact seeming to whisper ancient truths to him. Beside him, Xander mirrored his awe, their shared gaze reflecting the profound impact of this moment. As the lunar landscape stretched out before them, Jack felt a surge of determination to unravel the mysteries that lay within the artifact, whatever the cost.\", 'passage_length': 113, 'exceeded_max_attempts': False}, 'beat_3': {'attempts': 1, 'passage': 'Jack\\'s pulse quickened as he reached for his communication device, his fingers dancing over the familiar buttons. With unwavering trust in Dr. Selene Thorne, he transmitted an urgent message, his voice steady despite the gravity of the situation. \"Dr. Thorne, it\\'s Jack. I\\'ve made a discovery of immense significance here on the lunar surface. The artifact... it\\'s unlike anything we\\'ve encountered before. I need your expertise, now more than ever.\" Each word carried the weight of the unknown, a plea for guidance in the face of profound uncertainty. As he awaited her response, the vast expanse of the lunar landscape seemed to hold its breath, echoing the silent anticipation that enveloped him.', 'passage_length': 112, 'exceeded_max_attempts': False}, 'beat_4': {'attempts': 1, 'passage': 'Dr. Thorne\\'s voice crackled through the communication device, her tone a mix of curiosity and concern. \"Jack, describe the artifact to me. Is it emitting any unusual readings?\" Jack\\'s response was swift, his words measured yet tinged with a hint of awe, \"It\\'s a crystalline structure, pulsating with a soft, ethereal glow. No readings detected so far, but its energy signature is unlike anything we\\'ve encountered.\" Dr. Thorne\\'s sharp inhale was audible, \"Stay cautious, Jack. I\\'m analyzing the data now. This discovery could redefine our understanding of lunar history.\" Their exchange was a testament to their shared dedication to unraveling the mysteries of the cosmos, each word reinforcing the unbreakable bond of trust forged through countless scientific endeavors.', 'passage_length': 118, 'exceeded_max_attempts': False}, 'beat_5': {'attempts': 2, 'passage': \"As Jack gazed at the pulsating artifact, a profound realization dawned on him. This discovery held the potential to revolutionize not only their understanding of lunar history but also to reshape the course of Earth's future. The implications for the lunar mining project were staggering; the energy signature of the crystalline structure hinted at untapped resources that could fuel advancements in technology and sustainability back on Earth. Dr. Thorne's voice echoed in Jack's mind, urging caution and thorough analysis. The weight of their find settled upon him, a mix of excitement and trepidation as he contemplated the far-reaching consequences of this enigmatic artifact on both worlds.\", 'passage_length': 106, 'exceeded_max_attempts': False}, 'beat_6': {'attempts': 1, 'passage': \"Jack and Xander stood on the lunar surface, their eyes fixed on the enigmatic artifact pulsating before them. The weight of its discovery hung heavy in the air, filling the silence with a mix of excitement and trepidation. As they waited anxiously for further instructions from Dr. Thorne, a sense of anticipation and uncertainty enveloped them. The artifact's energy signature hinted at untapped resources that could reshape Earth's future, but Dr. Thorne's cautionary words echoed in Jack's mind, reminding him of the need for thorough analysis. With each passing moment, the implications of their find grew more profound, casting a shadow of uncertainty over their next steps on the lunar surface.\", 'passage_length': 111, 'exceeded_max_attempts': False}, 'beat_7': {'attempts': 1, 'passage': \"The lunar surface stretched endlessly around Jack and Xander, a barren landscape devoid of life. The vastness of space loomed above, a stark reminder of their isolation and the dangers that lurked in the shadows of the unknown. Every step they took stirred up fine lunar dust, creating a ghostly trail that quickly dissipated in the airless environment. The silence was deafening, broken only by the soft crunch of their boots against the rocky terrain. Despite the awe-inspiring beauty of the moon's desolate landscape, a sense of unease crept over them, a feeling that they were intruders in a place where humanity did not belong. Jack and Xander exchanged a knowing glance, silently acknowledging the challenges that lay ahead as they braced themselves for what mysteries the lunar surface held.\", 'passage_length': 130, 'exceeded_max_attempts': False}, 'beat_8': {'attempts': 1, 'passage': \"As Jack and Xander pressed on across the lunar surface, each step sent a shiver through their suits, the crunch of lunar soil beneath their boots a stark contrast to the eerie silence surrounding them. The cold, airless atmosphere wrapped around them like a suffocating blanket, a constant reminder of their fragile existence in this desolate realm. Every breath they took felt precious, the stark reality of their isolation sinking in deeper with each passing moment. Despite the breathtaking beauty of the moon's barren landscape, a sense of foreboding lingered in the air, a silent warning of the challenges awaiting them. Jack and Xander shared a determined nod, their eyes fixed on the horizon as they steeled themselves for the mysteries yet to unfold on the lunar surface.\", 'passage_length': 128, 'exceeded_max_attempts': False}, 'beat_9': {'attempts': 1, 'passage': \"Jack's gaze hardened as he surveyed the lunar expanse, his determination unwavering despite the looming threat of rival miners. The discovery they safeguarded held the key to unlocking mysteries of the moon's past, a prize he vowed to protect at all costs. With each step, his resolve deepened, a silent promise etched in the stark lunar soil beneath his boots. Though the vastness of space stretched before him, Jack's focus remained unwavering on the task at hand. As they ventured further, a steely glint in his eyes mirrored the unyielding spirit that drove him, ready to face any challenge that dared to test his commitment to safeguarding their find.\", 'passage_length': 109, 'exceeded_max_attempts': False}, 'beat_10': {'attempts': 1, 'passage': \"As Jack's footsteps echoed across the desolate lunar surface, a sense of foreboding lingered in the air. The tranquility of space masked the lurking dangers that awaited them - corporate rivals scheming in the shadows, ready to pounce on their discovery. Unseen eyes monitored their every move, a reminder of the treacherous game of greed and betrayal that governed this lunar frontier. Jack's jaw clenched with determination, knowing that the path ahead was fraught with peril. Beside him, Xander's gaze flickered with a mix of apprehension and resolve, a silent acknowledgment of the challenges that lay ahead. The weight of their mission pressed upon them, a test of their will against the ruthless forces that sought to claim what was rightfully theirs.\", 'passage_length': 122, 'exceeded_max_attempts': False}, 'beat_11': {'attempts': 1, 'passage': \"As the lunar dust settled around them, a subtle hum emanated from the alien artifact, its surface pulsating with an otherworldly glow. Xander's eyes widened in awe, a mix of fascination and trepidation dancing in their depths. The artifact held secrets beyond their comprehension, its ancient origins shrouded in mystery. Each intricate symbol etched into its surface whispered of a civilization long lost to time, sparking a hunger for knowledge within Xander's curious mind. The artifact's presence loomed like a specter of the unknown, casting a spell of intrigue and anticipation over the lunar landscape. Little did they know, unlocking its enigmatic power would lead them down a path fraught with revelations and dangers they could scarcely imagine.\", 'passage_length': 118, 'exceeded_max_attempts': False}, 'beat_12': {'attempts': 1, 'passage': \"As Xander reached out tentatively towards the pulsating artifact, a sudden tremor shook the lunar surface beneath their feet. The hum grew louder, reverberating through the air like a warning. Just as Xander's fingertips grazed the artifact, a blinding flash of light engulfed them, swallowing everything in its brilliant embrace. In that moment of chaos, a voice echoed in Xander's mind, ancient and powerful, whispering cryptic words of prophecy. The artifact's glow intensified, casting eerie shadows across the desolate landscape. Xander's heart raced with a mixture of fear and excitement, realizing they had unwittingly triggered a chain of events that would alter the course of their journey forever.\", 'passage_length': 108, 'exceeded_max_attempts': False}}\n"
          ]
        }
      ],
      "source": [
        "print(beatbot.generation_metadata)"
      ]
    },
    {
      "cell_type": "code",
      "execution_count": 8,
      "metadata": {},
      "outputs": [
        {
          "name": "stdout",
          "output_type": "stream",
          "text": [
            "Jack and Xander toiled under the lunar sky, their tools clinking against rocks as they excavated. The desolate landscape stretched endlessly around them, a stark reminder of their isolation. The tension between them was palpable, each lost in their thoughts yet connected by the weight of their mission. As they delved deeper into the moon's surface, the anticipation grew, mingling with the eerie silence that enveloped them. The barren expanse seemed to echo their every movement, amplifying the sense of unease that lingered between the two explorers. In this vast emptiness, their excavation became more than just a scientific endeavor; it became a test of their resilience and their bond in the face of the moon's unforgiving solitude.\n",
            "As Jack and Xander's tools scraped against the lunar soil, a glint caught Jack's eye. With careful precision, he unearthed an alien artifact, its surface shimmering with an ethereal glow. The artifact pulsated softly, casting an eerie light that danced across the desolate landscape. Xander's breath caught in awe as they beheld the mysterious object, its intricate markings hinting at a civilization far beyond their understanding. The artifact seemed to hum with a strange energy, filling the air with a sense of the unknown. In this moment, amidst the barren expanse of the moon, Jack and Xander stood face to face with a relic from a world beyond their own, a silent witness to the vast mysteries of the universe.\n",
            "Jack's hands trembled with a mix of excitement and trepidation as he cradled the alien artifact. The weight of its discovery settled heavily on his shoulders, the implications swirling in his mind. Could this be the key to unlocking the secrets of the universe? Or a harbinger of unforeseen consequences for humanity? His heart raced with the thrill of the unknown, the pulsating artifact seeming to whisper ancient truths to him. Beside him, Xander mirrored his awe, their shared gaze reflecting the profound impact of this moment. As the lunar landscape stretched out before them, Jack felt a surge of determination to unravel the mysteries that lay within the artifact, whatever the cost.\n",
            "Jack's pulse quickened as he reached for his communication device, his fingers dancing over the familiar buttons. With unwavering trust in Dr. Selene Thorne, he transmitted an urgent message, his voice steady despite the gravity of the situation. \"Dr. Thorne, it's Jack. I've made a discovery of immense significance here on the lunar surface. The artifact... it's unlike anything we've encountered before. I need your expertise, now more than ever.\" Each word carried the weight of the unknown, a plea for guidance in the face of profound uncertainty. As he awaited her response, the vast expanse of the lunar landscape seemed to hold its breath, echoing the silent anticipation that enveloped him.\n",
            "Dr. Thorne's voice crackled through the communication device, her tone a mix of curiosity and concern. \"Jack, describe the artifact to me. Is it emitting any unusual readings?\" Jack's response was swift, his words measured yet tinged with a hint of awe, \"It's a crystalline structure, pulsating with a soft, ethereal glow. No readings detected so far, but its energy signature is unlike anything we've encountered.\" Dr. Thorne's sharp inhale was audible, \"Stay cautious, Jack. I'm analyzing the data now. This discovery could redefine our understanding of lunar history.\" Their exchange was a testament to their shared dedication to unraveling the mysteries of the cosmos, each word reinforcing the unbreakable bond of trust forged through countless scientific endeavors.\n",
            "As Jack gazed at the pulsating artifact, a profound realization dawned on him. This discovery held the potential to revolutionize not only their understanding of lunar history but also to reshape the course of Earth's future. The implications for the lunar mining project were staggering; the energy signature of the crystalline structure hinted at untapped resources that could fuel advancements in technology and sustainability back on Earth. Dr. Thorne's voice echoed in Jack's mind, urging caution and thorough analysis. The weight of their find settled upon him, a mix of excitement and trepidation as he contemplated the far-reaching consequences of this enigmatic artifact on both worlds.\n",
            "Jack and Xander stood on the lunar surface, their eyes fixed on the enigmatic artifact pulsating before them. The weight of its discovery hung heavy in the air, filling the silence with a mix of excitement and trepidation. As they waited anxiously for further instructions from Dr. Thorne, a sense of anticipation and uncertainty enveloped them. The artifact's energy signature hinted at untapped resources that could reshape Earth's future, but Dr. Thorne's cautionary words echoed in Jack's mind, reminding him of the need for thorough analysis. With each passing moment, the implications of their find grew more profound, casting a shadow of uncertainty over their next steps on the lunar surface.\n",
            "The lunar surface stretched endlessly around Jack and Xander, a barren landscape devoid of life. The vastness of space loomed above, a stark reminder of their isolation and the dangers that lurked in the shadows of the unknown. Every step they took stirred up fine lunar dust, creating a ghostly trail that quickly dissipated in the airless environment. The silence was deafening, broken only by the soft crunch of their boots against the rocky terrain. Despite the awe-inspiring beauty of the moon's desolate landscape, a sense of unease crept over them, a feeling that they were intruders in a place where humanity did not belong. Jack and Xander exchanged a knowing glance, silently acknowledging the challenges that lay ahead as they braced themselves for what mysteries the lunar surface held.\n",
            "As Jack and Xander pressed on across the lunar surface, each step sent a shiver through their suits, the crunch of lunar soil beneath their boots a stark contrast to the eerie silence surrounding them. The cold, airless atmosphere wrapped around them like a suffocating blanket, a constant reminder of their fragile existence in this desolate realm. Every breath they took felt precious, the stark reality of their isolation sinking in deeper with each passing moment. Despite the breathtaking beauty of the moon's barren landscape, a sense of foreboding lingered in the air, a silent warning of the challenges awaiting them. Jack and Xander shared a determined nod, their eyes fixed on the horizon as they steeled themselves for the mysteries yet to unfold on the lunar surface.\n",
            "Jack's gaze hardened as he surveyed the lunar expanse, his determination unwavering despite the looming threat of rival miners. The discovery they safeguarded held the key to unlocking mysteries of the moon's past, a prize he vowed to protect at all costs. With each step, his resolve deepened, a silent promise etched in the stark lunar soil beneath his boots. Though the vastness of space stretched before him, Jack's focus remained unwavering on the task at hand. As they ventured further, a steely glint in his eyes mirrored the unyielding spirit that drove him, ready to face any challenge that dared to test his commitment to safeguarding their find.\n",
            "As Jack's footsteps echoed across the desolate lunar surface, a sense of foreboding lingered in the air. The tranquility of space masked the lurking dangers that awaited them - corporate rivals scheming in the shadows, ready to pounce on their discovery. Unseen eyes monitored their every move, a reminder of the treacherous game of greed and betrayal that governed this lunar frontier. Jack's jaw clenched with determination, knowing that the path ahead was fraught with peril. Beside him, Xander's gaze flickered with a mix of apprehension and resolve, a silent acknowledgment of the challenges that lay ahead. The weight of their mission pressed upon them, a test of their will against the ruthless forces that sought to claim what was rightfully theirs.\n",
            "As the lunar dust settled around them, a subtle hum emanated from the alien artifact, its surface pulsating with an otherworldly glow. Xander's eyes widened in awe, a mix of fascination and trepidation dancing in their depths. The artifact held secrets beyond their comprehension, its ancient origins shrouded in mystery. Each intricate symbol etched into its surface whispered of a civilization long lost to time, sparking a hunger for knowledge within Xander's curious mind. The artifact's presence loomed like a specter of the unknown, casting a spell of intrigue and anticipation over the lunar landscape. Little did they know, unlocking its enigmatic power would lead them down a path fraught with revelations and dangers they could scarcely imagine.\n",
            "As Xander reached out tentatively towards the pulsating artifact, a sudden tremor shook the lunar surface beneath their feet. The hum grew louder, reverberating through the air like a warning. Just as Xander's fingertips grazed the artifact, a blinding flash of light engulfed them, swallowing everything in its brilliant embrace. In that moment of chaos, a voice echoed in Xander's mind, ancient and powerful, whispering cryptic words of prophecy. The artifact's glow intensified, casting eerie shadows across the desolate landscape. Xander's heart raced with a mixture of fear and excitement, realizing they had unwittingly triggered a chain of events that would alter the course of their journey forever.\n",
            "\n"
          ]
        }
      ],
      "source": [
        "print(beatbot.story)"
      ]
    },
    {
      "cell_type": "code",
      "execution_count": 9,
      "metadata": {},
      "outputs": [
        {
          "name": "stdout",
          "output_type": "stream",
          "text": [
            "Beneath the lunar sky, Jack and Xander worked diligently, their tools clinking against rocks as they excavated. The desolate landscape sprawled endlessly around them, emphasizing their isolation. The tension between them was palpable, each engrossed in their thoughts yet united by their mission's gravity. As they delved deeper into the moon's surface, anticipation mingled with the eerie silence enveloping them. The barren expanse seemed to echo their every movement, heightening the unease between the two explorers. In this vast emptiness, their excavation evolved into more than a scientific endeavor; it became a test of their resilience and their bond amidst the moon's unforgiving solitude.\n",
            "\n",
            "As Jack's tools scraped against the lunar soil, a glint caught his eye. With careful precision, he unearthed an alien artifact, its surface shimmering with an ethereal glow. The artifact pulsated softly, casting an eerie light that danced across the desolate landscape. Xander stood in awe as they beheld the mysterious object, its intricate markings hinting at a civilization far beyond their understanding. The artifact seemed to hum with a strange energy, filling the air with a sense of the unknown. In that moment, amidst the barren expanse of the moon, Jack and Xander stood face to face with a relic from a world beyond their own, a silent witness to the vast mysteries of the universe.\n",
            "\n",
            "Jack's hands trembled with a mix of excitement and trepidation as he cradled the alien artifact. The weight of its discovery settled heavily on his shoulders, the implications swirling in his mind. Could this be the key to unlocking the secrets of the universe? Or a harbinger of unforeseen consequences for humanity? His heart raced with the thrill of the unknown, the pulsating artifact seeming to whisper ancient truths to him. Beside him, Xander mirrored his awe, their shared gaze reflecting the profound impact of this moment. As the lunar landscape stretched out before them, Jack felt a surge of determination to unravel the mysteries within the artifact, whatever the cost.\n",
            "\n",
            "Jack's pulse quickened as he reached for his communication device, his fingers dancing over the familiar buttons. With unwavering trust in Dr. Selene Thorne, he transmitted an urgent message, his voice steady despite the gravity of the situation. \"Dr. Thorne, it's Jack. I've made a discovery of immense significance here on the lunar surface. The artifact... it's unlike anything we've encountered before. I need your expertise, now more than ever.\" Each word carried the weight of the unknown, a plea for guidance in the face of profound uncertainty. As he awaited her response, the vast expanse of the lunar landscape seemed to hold its breath, echoing the silent anticipation that enveloped him.\n",
            "\n",
            "Dr. Thorne's voice crackled through the communication device, her tone a mix of curiosity and concern. \"Jack, describe the artifact to me. Is it emitting any unusual readings?\" Jack's response was swift, his words measured yet tinged with a hint of awe, \"It's a crystalline structure, pulsating with a soft, ethereal glow. No readings detected so far, but its energy signature is unlike anything we've encountered.\" Dr. Thorne's sharp inhale was audible, \"Stay cautious, Jack. I'm analyzing the data now. This discovery could redefine our understanding of lunar history.\" Their exchange was a testament to their shared dedication to unraveling the mysteries of the cosmos, each word reinforcing the unbreakable bond of trust forged through countless scientific endeavors.\n",
            "\n",
            "As Jack gazed at the pulsating artifact, a profound realization dawned on him. This discovery held the potential to revolutionize not only their understanding of lunar history but also to reshape the course of Earth's future. The implications for the lunar mining project were staggering; the energy signature of the crystalline structure hinted at untapped resources that could fuel advancements in technology and sustainability back on Earth. Dr. Thorne's voice echoed in Jack's mind, urging caution and thorough analysis. The weight of their find settled upon him, a mix of excitement and trepidation as he contemplated the far-reaching consequences of this enigmatic artifact on both worlds.\n",
            "\n",
            "Jack and Xander stood on the lunar surface, their eyes fixed on the enigmatic artifact pulsating before them. The weight of its discovery hung heavy in the air, filling the silence with a mix of excitement and trepidation. As they waited anxiously for further instructions from Dr. Thorne, a sense of anticipation and uncertainty enveloped them. The artifact's energy signature hinted at untapped resources that could reshape Earth's future, but Dr. Thorne's cautionary words echoed in Jack's mind, reminding him of the need for thorough analysis. With each passing moment, the implications of their find grew more profound, casting a shadow of uncertainty over their next steps on the lunar surface.\n",
            "\n",
            "The lunar surface stretched endlessly around Jack and Xander, a barren landscape devoid of life. The vastness of space loomed above, a stark reminder of their isolation and the dangers that lurked in the shadows of the unknown. Every step they took stirred up fine lunar dust, creating a ghostly trail that quickly dissipated in the airless environment. The silence was deafening, broken only by the soft crunch of their boots against the rocky terrain. Despite the awe-inspiring beauty of the moon's desolate landscape, a sense of unease crept over them, a feeling that they were intruders in a place where humanity did not belong. Jack and Xander exchanged a knowing glance, silently acknowledging the challenges that lay ahead as they braced themselves for what mysteries the lunar surface held.\n",
            "\n",
            "As Jack and Xander pressed on across the lunar surface, each step sent a shiver through their suits, the crunch of lunar soil beneath their boots a stark contrast to the eerie silence surrounding them. The cold, airless atmosphere wrapped around them like a suffocating blanket, a constant reminder of their fragile existence in this desolate realm. Every breath they took felt precious, the stark reality of their isolation sinking in deeper with each passing moment. Despite the breathtaking beauty of the moon's barren landscape, a sense of foreboding lingered in the air, a silent warning of the challenges awaiting them. Jack and Xander shared a determined nod, their eyes fixed on the horizon as they steeled themselves for the mysteries yet to unfold on the lunar surface.\n",
            "\n",
            "Jack's gaze hardened as he surveyed the lunar expanse, his determination unwavering despite the looming threat of rival miners. The discovery they safeguarded held the key to unlocking mysteries of the moon's past, a prize he vowed to protect at all costs. With each step, his resolve deepened, a silent promise etched in the stark lunar soil beneath his boots. Though the vastness of space stretched before him, Jack's focus remained unwavering on the task at hand. As they ventured further, a steely glint in his eyes mirrored the unyielding spirit that drove him, ready to face any challenge that dared to test his commitment to safeguarding their find.\n",
            "\n",
            "As Jack's footsteps echoed across the desolate lunar surface, a sense of foreboding lingered in the air. The tranquility of space masked the lurking dangers that awaited them - corporate rivals scheming in the shadows, ready to pounce on their discovery. Unseen eyes monitored their every move, a reminder of the treacherous game of greed and betrayal that governed this lunar frontier. Jack's jaw clenched with determination, knowing that the path ahead was fraught with peril. Beside him, Xander's gaze flickered with a mix of apprehension and resolve, a silent acknowledgment of the challenges that lay ahead. The weight of their mission pressed upon them, a test of their will against the ruthless forces that sought to claim what was rightfully theirs.\n",
            "\n",
            "As the lunar dust settled around them, a subtle hum emanated from the alien artifact, its surface pulsating with an otherworldly glow. Xander's eyes widened in awe, a mix of fascination and trepidation dancing in their depths. The artifact held secrets beyond their comprehension, its ancient origins shrouded in mystery. Each intricate symbol etched into its surface whispered of a civilization long lost to time, sparking a hunger for knowledge within Xander's curious mind. The artifact's presence loomed like a specter of the unknown, casting a spell of intrigue and anticipation over the lunar landscape. Little did they know, unlocking its enigmatic power would lead them down a path fraught with revelations and dangers they could scarcely imagine.\n",
            "\n",
            "As Xander reached out tentatively towards the pulsating artifact, a sudden tremor shook the lunar surface beneath their feet. The hum grew louder, reverberating through the air like a warning. Just as Xander's fingertips grazed the artifact, a blinding flash of light engulfed them, swallowing everything in its brilliant embrace. In that moment of chaos, a voice echoed in Xander's mind, ancient and powerful, whispering cryptic words of prophecy. The artifact's glow intensified, casting eerie shadows across the desolate landscape. Xander's heart raced with a mixture of fear and excitement, realizing they had unwittingly triggered a chain of events that would alter the course of their journey forever.\n"
          ]
        }
      ],
      "source": [
        "print(beatbot.edited_story)"
      ]
    },
    {
      "cell_type": "markdown",
      "metadata": {
        "id": "8aixLG2V2Pm1"
      },
      "source": [
        "### **Part 2: Incorporating Story Metadata**\n",
        "\n",
        "Now we want to extend the functionality of Beats-to-Prose to accept a few new parameters:\n",
        "- a list of characters (name and details about them)\n",
        "- setting\n",
        "- genre\n",
        "- style of prose and have that alter the generated prose.\n",
        "\n",
        "Describe in detail your approach to this. Some things to consider:\n",
        "\n",
        "1. What models would you use? Why?\n",
        "2. If you need to procure data, how would go about doing that? How would you prepare the data?\n",
        "3. What is your approach to producing prose that matches the parameters?\n",
        "\n",
        "How would you evaluate whether the generations are good quality and fit the parameters specified?\n",
        "Consider cost and latency considerations"
      ]
    },
    {
      "cell_type": "markdown",
      "metadata": {},
      "source": [
        "Input looks like:\n",
        "\n",
        "```\n",
        "{\n",
        "}\n",
        "```\n"
      ]
    },
    {
      "cell_type": "markdown",
      "metadata": {
        "id": "0JOCCCGL22I2"
      },
      "source": [
        "## **Part 3: Describe how you might turn this code into an API**\n",
        "\n",
        "Imagine you have a working protoype and would like the application team to start using your solution. You can assume you are using the FastAPI framework or something similar. You can use psuedocode for this exercise.\n",
        "\n",
        "1. What would a hander look like, and what parameters would it receive?"
      ]
    },
    {
      "cell_type": "code",
      "execution_count": 10,
      "metadata": {
        "id": "AHGh-CJb3UH6"
      },
      "outputs": [],
      "source": [
        "# Write your solution for the handler here You don't have to run this cell\n",
        "from fastapi import FastAPI\n",
        "from fastapi.routing import APIRoute\n",
        "\n",
        "app = FastAPI()\n",
        "\n",
        "@app.post(\"\")\n",
        "async def beat_to_prose_generation():\n",
        "    return []\n"
      ]
    }
  ],
  "metadata": {
    "colab": {
      "provenance": []
    },
    "kernelspec": {
      "display_name": ".venv",
      "language": "python",
      "name": "python3"
    },
    "language_info": {
      "codemirror_mode": {
        "name": "ipython",
        "version": 3
      },
      "file_extension": ".py",
      "mimetype": "text/x-python",
      "name": "python",
      "nbconvert_exporter": "python",
      "pygments_lexer": "ipython3",
      "version": "3.12.4"
    }
  },
  "nbformat": 4,
  "nbformat_minor": 0
}
