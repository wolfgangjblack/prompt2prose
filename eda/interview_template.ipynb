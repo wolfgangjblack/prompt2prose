{
  "cells": [
    {
      "cell_type": "code",
      "execution_count": 1,
      "metadata": {
        "id": "NzonkeYuyQab"
      },
      "outputs": [],
      "source": [
        "# Initialize OpenAI (if Needed)\n",
        "import sys\n",
        "\n",
        "# Add the parent directory to the system path\n",
        "sys.path.append('..')\n",
        "\n",
        "from utils import BeatToStory\n",
        "\n",
        "beatbot = BeatToStory()\n"
      ]
    },
    {
      "cell_type": "markdown",
      "metadata": {
        "id": "ijHdY8Ay0QMe"
      },
      "source": [
        "## Prose Generation Coding Task\n",
        "\n",
        "The challenge involves creating a backend system that transforms a series of bulleted \"beats\" into well-crafted prose that you would find in a novel. This tool is designed to aid writers in fleshing out as scene based on their outlines.\n",
        "\n",
        "**Part 1: Beats-to-Prose**\n",
        "Given a set of story beats, like this set for a sci-fi chapter:\n",
        "\n",
        "1. Begin the chapter with Jack and Xander continuing their excavation on the lunar surface,\n",
        "creating a sense of tension and anticipation.\n",
        "2. Describe the barren landscape of the moon, emphasizing its desolation and the isolation\n",
        "felt by Jack and Xander.\n",
        "3. Use vivid and descriptive language to portray the moment when Jack and Xander uncover\n",
        "an alien artifact, highlighting its mysterious and otherworldly appearance.\n",
        "4. Convey Jack's excitement and trepidation as he realizes the significance of the discovery\n",
        "and the potential implications it holds for humanity.\n",
        "5. Show Jack immediately contacting Dr. Selene Thorne, emphasizing his trust in her and the\n",
        "urgency of the situation.\n",
        "6. Include dialogue between Jack and Dr. Thorne, showcasing their professional relationship\n",
        "and the gravity of the situation.\n",
        "7. Highlight the importance of the discovery and the potential consequences it could have on\n",
        "Earth and the lunar mining project.\n",
        "8. Show Jack and Xander waiting anxiously for further instructions from Dr. Thorne, creating a\n",
        "sense of anticipation and uncertainty.\n",
        "9. Emphasize the isolation and vastness of the lunar landscape, reinforcing the challenges\n",
        "and dangers that Jack and Xander face.\n",
        "10. Use sensory details to immerse the reader in the lunar environment, such as the crunch of\n",
        "lunar soil beneath their boots and the cold, airless atmosphere.\n",
        "11. Portray Jack's determination and resolve to protect the discovery, even in the face of\n",
        "potential conflict with rival miners.\n",
        "12. Hint at the potential dangers and obstacles that Jack and Xander may encounter as they\n",
        "navigate through a world of corporate greed and betrayal.\n",
        "13. Foreshadow the secrets and mysteries that the alien artifact holds, building intrigue and\n",
        "anticipation for future chapters.\n",
        "14. End the chapter with a cliffhanger or unresolved tension, leaving the reader eager to\n",
        "continue reading and discover what happens next.\n",
        "\n",
        "Use these beats to produce ~1500 words of prose that matches these beats - in other words, if\n",
        "a human were to summarize the prose, they would produce something along the lines of these\n",
        "beats. It's okay to hallucinate details if they are missing from the beats in order to create the\n",
        "narrative. Target approximately 100-150 words of output per beat. You are allowed to use any LLM or NLP techniques, including open source and closed source services like GPT or Claude.\n",
        "\n",
        "\n"
      ]
    },
    {
      "cell_type": "code",
      "execution_count": 2,
      "metadata": {
        "id": "9yk71CWe0wky"
      },
      "outputs": [],
      "source": [
        "# Test Input\n",
        "TEST_BEATS_INPUT = [\n",
        "    \"Begin the chapter with Jack and Xander continuing their excavation on the lunar surface, creating a sense of tension and anticipation.\",\n",
        "    \"Describe the barren landscape of the moon, emphasizing its desolation and the isolation felt by Jack and Xander.\",\n",
        "    \"Use vivid and descriptive language to portray the moment when Jack and Xander uncover an alien artifact, highlighting its mysterious and otherworldly appearance.\",\n",
        "    \"Convey Jack's excitement and trepidation as he realizes the significance of the discovery and the potential implications it holds for humanity.\",\n",
        "    \"Show Jack immediately contacting Dr. Selene Thorne, emphasizing his trust in her and the urgency of the situation.\",\n",
        "    \"Include dialogue between Jack and Dr. Thorne, showcasing their professional relationship and the gravity of the situation.\",\n",
        "    \"Highlight the importance of the discovery and the potential consequences it could have on Earth and the lunar mining project.\",\n",
        "    \"Show Jack and Xander waiting anxiously for further instructions from Dr. Thorne, creating a sense of anticipation and uncertainty.\",\n",
        "    \"Emphasize the isolation and vastness of the lunar landscape, reinforcing the challenges and dangers that Jack and Xander face.\",\n",
        "    \"Use sensory details to immerse the reader in the lunar environment, such as the crunch of lunar soil beneath their boots and the cold, airless atmosphere.\",\n",
        "    \"Portray Jack's determination and resolve to protect the discovery, even in the face of potential conflict with rival miners.\",\n",
        "    \"Hint at the potential dangers and obstacles that Jack and Xander may encounter as they navigate through a world of corporate greed and betrayal.\",\n",
        "    \"Foreshadow the secrets and mysteries that the alien artifact holds, building intrigue and anticipation for future chapters.\",\n",
        "    \"End the chapter with a cliffhanger or unresolved tension, leaving the reader eager to continue reading and discover what happens next.\"\n",
        "]"
      ]
    },
    {
      "cell_type": "markdown",
      "metadata": {},
      "source": [
        "## Agentic with context"
      ]
    },
    {
      "cell_type": "code",
      "execution_count": 3,
      "metadata": {},
      "outputs": [],
      "source": [
        "beatbot.beats = TEST_BEATS_INPUT"
      ]
    },
    {
      "cell_type": "code",
      "execution_count": null,
      "metadata": {},
      "outputs": [
        {
          "name": "stdout",
          "output_type": "stream",
          "text": [
            "1375\n",
            "1370\n"
          ]
        }
      ],
      "source": [
        "for i in range(10):\n",
        "    beatbot.pipe()\n",
        "# print(beatbot.story)\n",
        "    print(len(beatbot.story.split()))\n",
        "    print(beatbot.story_length)"
      ]
    },
    {
      "cell_type": "code",
      "execution_count": 9,
      "metadata": {},
      "outputs": [
        {
          "data": {
            "text/plain": [
              "1037"
            ]
          },
          "execution_count": 9,
          "metadata": {},
          "output_type": "execute_result"
        }
      ],
      "source": []
    },
    {
      "cell_type": "markdown",
      "metadata": {
        "id": "8aixLG2V2Pm1"
      },
      "source": [
        "### **Part 2: Incorporating Story Metadata**\n",
        "\n",
        "Now we want to extend the functionality of Beats-to-Prose to accept a few new parameters:\n",
        "- a list of characters (name and details about them)\n",
        "- setting\n",
        "- genre\n",
        "- style of prose and have that alter the generated prose.\n",
        "\n",
        "Describe in detail your approach to this. Some things to consider:\n",
        "\n",
        "1. What models would you use? Why?\n",
        "2. If you need to procure data, how would go about doing that? How would you prepare the data?\n",
        "3. What is your approach to producing prose that matches the parameters?\n",
        "\n",
        "How would you evaluate whether the generations are good quality and fit the parameters specified?\n",
        "Consider cost and latency considerations"
      ]
    },
    {
      "cell_type": "markdown",
      "metadata": {},
      "source": [
        "Input looks like:\n",
        "\n",
        "```\n",
        "{\n",
        "}\n",
        "```\n"
      ]
    },
    {
      "cell_type": "markdown",
      "metadata": {
        "id": "0JOCCCGL22I2"
      },
      "source": [
        "## **Part 3: Describe how you might turn this code into an API**\n",
        "\n",
        "Imagine you have a working protoype and would like the application team to start using your solution. You can assume you are using the FastAPI framework or something similar. You can use psuedocode for this exercise.\n",
        "\n",
        "1. What would a hander look like, and what parameters would it receive?"
      ]
    },
    {
      "cell_type": "code",
      "execution_count": null,
      "metadata": {
        "id": "AHGh-CJb3UH6"
      },
      "outputs": [],
      "source": [
        "# Write your solution for the handler here You don't have to run this cell\n",
        "from fastapi import FastAPI\n",
        "from fastapi.routing import APIRoute\n",
        "\n",
        "app = FastAPI()\n",
        "\n",
        "@app.post(\"\")\n",
        "async def beat_to_prose_generation():\n",
        "    return []\n"
      ]
    }
  ],
  "metadata": {
    "colab": {
      "provenance": []
    },
    "kernelspec": {
      "display_name": ".venv",
      "language": "python",
      "name": "python3"
    },
    "language_info": {
      "codemirror_mode": {
        "name": "ipython",
        "version": 3
      },
      "file_extension": ".py",
      "mimetype": "text/x-python",
      "name": "python",
      "nbconvert_exporter": "python",
      "pygments_lexer": "ipython3",
      "version": "3.12.4"
    }
  },
  "nbformat": 4,
  "nbformat_minor": 0
}
