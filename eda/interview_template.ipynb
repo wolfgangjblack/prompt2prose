{
  "cells": [
    {
      "cell_type": "code",
      "execution_count": 1,
      "metadata": {
        "id": "NzonkeYuyQab"
      },
      "outputs": [],
      "source": [
        "# Initialize OpenAI (if Needed)\n",
        "import sys\n",
        "\n",
        "# Add the parent directory to the system path\n",
        "sys.path.append('..')\n",
        "\n",
        "from utils import BeatToStory\n",
        "\n",
        "beatbot = BeatToStory()\n"
      ]
    },
    {
      "cell_type": "markdown",
      "metadata": {
        "id": "ijHdY8Ay0QMe"
      },
      "source": [
        "## Prose Generation Coding Task\n",
        "\n",
        "The challenge involves creating a backend system that transforms a series of bulleted \"beats\" into well-crafted prose that you would find in a novel. This tool is designed to aid writers in fleshing out as scene based on their outlines.\n",
        "\n",
        "**Part 1: Beats-to-Prose**\n",
        "Given a set of story beats, like this set for a sci-fi chapter:\n",
        "\n",
        "1. Begin the chapter with Jack and Xander continuing their excavation on the lunar surface,\n",
        "creating a sense of tension and anticipation.\n",
        "2. Describe the barren landscape of the moon, emphasizing its desolation and the isolation\n",
        "felt by Jack and Xander.\n",
        "3. Use vivid and descriptive language to portray the moment when Jack and Xander uncover\n",
        "an alien artifact, highlighting its mysterious and otherworldly appearance.\n",
        "4. Convey Jack's excitement and trepidation as he realizes the significance of the discovery\n",
        "and the potential implications it holds for humanity.\n",
        "5. Show Jack immediately contacting Dr. Selene Thorne, emphasizing his trust in her and the\n",
        "urgency of the situation.\n",
        "6. Include dialogue between Jack and Dr. Thorne, showcasing their professional relationship\n",
        "and the gravity of the situation.\n",
        "7. Highlight the importance of the discovery and the potential consequences it could have on\n",
        "Earth and the lunar mining project.\n",
        "8. Show Jack and Xander waiting anxiously for further instructions from Dr. Thorne, creating a\n",
        "sense of anticipation and uncertainty.\n",
        "9. Emphasize the isolation and vastness of the lunar landscape, reinforcing the challenges\n",
        "and dangers that Jack and Xander face.\n",
        "10. Use sensory details to immerse the reader in the lunar environment, such as the crunch of\n",
        "lunar soil beneath their boots and the cold, airless atmosphere.\n",
        "11. Portray Jack's determination and resolve to protect the discovery, even in the face of\n",
        "potential conflict with rival miners.\n",
        "12. Hint at the potential dangers and obstacles that Jack and Xander may encounter as they\n",
        "navigate through a world of corporate greed and betrayal.\n",
        "13. Foreshadow the secrets and mysteries that the alien artifact holds, building intrigue and\n",
        "anticipation for future chapters.\n",
        "14. End the chapter with a cliffhanger or unresolved tension, leaving the reader eager to\n",
        "continue reading and discover what happens next.\n",
        "\n",
        "Use these beats to produce ~1500 words of prose that matches these beats - in other words, if\n",
        "a human were to summarize the prose, they would produce something along the lines of these\n",
        "beats. It's okay to hallucinate details if they are missing from the beats in order to create the\n",
        "narrative. Target approximately 100-150 words of output per beat. You are allowed to use any LLM or NLP techniques, including open source and closed source services like GPT or Claude.\n",
        "\n",
        "\n"
      ]
    },
    {
      "cell_type": "code",
      "execution_count": 2,
      "metadata": {
        "id": "9yk71CWe0wky"
      },
      "outputs": [],
      "source": [
        "# Test Input\n",
        "TEST_BEATS_INPUT = [\n",
        "    \"Begin the chapter with Jack and Xander continuing their excavation on the lunar surface, creating a sense of tension and anticipation.\",\n",
        "    \"Describe the barren landscape of the moon, emphasizing its desolation and the isolation felt by Jack and Xander.\",\n",
        "    \"Use vivid and descriptive language to portray the moment when Jack and Xander uncover an alien artifact, highlighting its mysterious and otherworldly appearance.\",\n",
        "    \"Convey Jack's excitement and trepidation as he realizes the significance of the discovery and the potential implications it holds for humanity.\",\n",
        "    \"Show Jack immediately contacting Dr. Selene Thorne, emphasizing his trust in her and the urgency of the situation.\",\n",
        "    \"Include dialogue between Jack and Dr. Thorne, showcasing their professional relationship and the gravity of the situation.\",\n",
        "    \"Highlight the importance of the discovery and the potential consequences it could have on Earth and the lunar mining project.\",\n",
        "    \"Show Jack and Xander waiting anxiously for further instructions from Dr. Thorne, creating a sense of anticipation and uncertainty.\",\n",
        "    \"Emphasize the isolation and vastness of the lunar landscape, reinforcing the challenges and dangers that Jack and Xander face.\",\n",
        "    \"Use sensory details to immerse the reader in the lunar environment, such as the crunch of lunar soil beneath their boots and the cold, airless atmosphere.\",\n",
        "    \"Portray Jack's determination and resolve to protect the discovery, even in the face of potential conflict with rival miners.\",\n",
        "    \"Hint at the potential dangers and obstacles that Jack and Xander may encounter as they navigate through a world of corporate greed and betrayal.\",\n",
        "    \"Foreshadow the secrets and mysteries that the alien artifact holds, building intrigue and anticipation for future chapters.\",\n",
        "    \"End the chapter with a cliffhanger or unresolved tension, leaving the reader eager to continue reading and discover what happens next.\"\n",
        "]"
      ]
    },
    {
      "cell_type": "code",
      "execution_count": null,
      "metadata": {},
      "outputs": [],
      "source": []
    },
    {
      "cell_type": "markdown",
      "metadata": {},
      "source": [
        "## Agentic with context"
      ]
    },
    {
      "cell_type": "code",
      "execution_count": 3,
      "metadata": {},
      "outputs": [
        {
          "data": {
            "text/plain": [
              "150"
            ]
          },
          "execution_count": 3,
          "metadata": {},
          "output_type": "execute_result"
        }
      ],
      "source": [
        "beatbot.max_words_per_beat"
      ]
    },
    {
      "cell_type": "code",
      "execution_count": 4,
      "metadata": {},
      "outputs": [
        {
          "data": {
            "text/plain": [
              "BeatToStory(min_words_per_beat=100, max_words_per_beat=150, max_attempts_per_beat=10, story='', edited_story='', beats=['Begin the chapter with Jack and Xander continuing their excavation on the lunar surface, creating a sense of tension and anticipation.', 'Describe the barren landscape of the moon, emphasizing its desolation and the isolation felt by Jack and Xander.', 'Use vivid and descriptive language to portray the moment when Jack and Xander uncover an alien artifact, highlighting its mysterious and otherworldly appearance.', \"Convey Jack's excitement and trepidation as he realizes the significance of the discovery and the potential implications it holds for humanity.\", 'Show Jack immediately contacting Dr. Selene Thorne, emphasizing his trust in her and the urgency of the situation.', 'Include dialogue between Jack and Dr. Thorne, showcasing their professional relationship and the gravity of the situation.', 'Highlight the importance of the discovery and the potential consequences it could have on Earth and the lunar mining project.', 'Show Jack and Xander waiting anxiously for further instructions from Dr. Thorne, creating a sense of anticipation and uncertainty.', 'Emphasize the isolation and vastness of the lunar landscape, reinforcing the challenges and dangers that Jack and Xander face.', 'Use sensory details to immerse the reader in the lunar environment, such as the crunch of lunar soil beneath their boots and the cold, airless atmosphere.', \"Portray Jack's determination and resolve to protect the discovery, even in the face of potential conflict with rival miners.\", 'Hint at the potential dangers and obstacles that Jack and Xander may encounter as they navigate through a world of corporate greed and betrayal.', 'Foreshadow the secrets and mysteries that the alien artifact holds, building intrigue and anticipation for future chapters.', 'End the chapter with a cliffhanger or unresolved tension, leaving the reader eager to continue reading and discover what happens next.'], context={}, generation_metadata={}, story_length=0, total_cost={'context_agent': 0, 'prose_agent': 0, 'story_agent': 0, 'length_agent': 0, 'flow_agent': 0, 'total': 0})"
            ]
          },
          "execution_count": 4,
          "metadata": {},
          "output_type": "execute_result"
        }
      ],
      "source": [
        "beatbot.beats = TEST_BEATS_INPUT\n",
        "beatbot"
      ]
    },
    {
      "cell_type": "code",
      "execution_count": 5,
      "metadata": {},
      "outputs": [
        {
          "name": "stdout",
          "output_type": "stream",
          "text": [
            "    crafting context on beat 0\n",
            "    crafting context on beat 1\n",
            "    crafting context on beat 2\n",
            "    crafting context on beat 3\n",
            "    crafting context on beat 4\n",
            "    crafting context on beat 5\n",
            "    crafting context on beat 6\n",
            "    crafting context on beat 7\n",
            "    crafting context on beat 8\n",
            "    crafting context on beat 9\n",
            "    crafting context on beat 10\n",
            "    crafting context on beat 11\n",
            "    crafting context on beat 12\n",
            "90\n",
            "100\n",
            "150\n",
            "        beat 1 | attempt: 0 | Inconsistency detected; regenerating passage...\n",
            "103\n",
            "100\n",
            "150\n",
            "124\n",
            "100\n",
            "150\n",
            "104\n",
            "100\n",
            "150\n",
            "114\n",
            "100\n",
            "150\n",
            "        beat 5 | attempt: 0 | Inconsistency detected; regenerating passage...\n",
            "107\n",
            "100\n",
            "150\n",
            "115\n",
            "100\n",
            "150\n",
            "110\n",
            "100\n",
            "150\n",
            "97\n",
            "100\n",
            "150\n",
            "107\n",
            "100\n",
            "150\n",
            "115\n",
            "100\n",
            "150\n",
            "119\n",
            "100\n",
            "150\n",
            "123\n",
            "100\n",
            "150\n"
          ]
        },
        {
          "data": {
            "text/plain": [
              "'Jack and Xander\\'s tools clinked against the lunar surface, the tension palpable as they dug deeper, their breath fogging up their helmets. The barren landscape stretched endlessly around them, a stark reminder of their isolation. Each scoop of moon dust unveiled mysteries and dangers, fueling their anticipation. The desolation of the moon mirrored the emptiness in their hearts, a void only the secrets hidden beneath the surface could fill. As they worked, the silence of space enveloped them, amplifying the weight of their mission and the unknown that lay ahead.\\nAs Jack and Xander delved deeper into the lunar surface, their tools unearthed an alien artifact unlike anything they had ever seen. It shimmered with an ethereal glow, casting iridescent hues across the desolate landscape. The artifact pulsed softly, as if resonating with a hidden energy, captivating the astronauts with its mysterious and otherworldly appearance. Its intricate patterns seemed to shift and dance, defying the laws of physics known to humanity. Jack and Xander exchanged a glance, their hearts pounding with a mix of awe and trepidation, realizing that this discovery held the key to unlocking the enigmas of the moon and beyond.\\nJack\\'s hands trembled with a mix of excitement and trepidation as he gazed at the alien artifact before him. The pulsing glow seemed to whisper secrets of the universe, igniting a spark of curiosity within him. The implications of this discovery for humanity loomed large in his mind, a weighty responsibility resting on his shoulders. Could this artifact hold the key to unlocking the mysteries of the cosmos, or would it unleash forces beyond their understanding? Jack\\'s eyes met Xander\\'s, reflecting the shared realization that their find could change the course of history, for better or for worse. As they stood on the lunar surface, a sense of both wonder and unease settled over them, marking the beginning of a journey into the unknown.\\nJack\\'s heart raced with a mix of anticipation and concern as he reached for his communication device. With unwavering determination, he dialed Dr. Selene Thorne\\'s frequency, his voice steady despite the gravity of the situation. \"Dr. Thorne, it\\'s Jack. We\\'ve made a discovery on the lunar surface... something extraordinary,\" he began, his words carrying the weight of the unknown artifact\\'s significance. \"I trust in your expertise, but time is of the essence. This could redefine our understanding of the universe.\" A sense of urgency underscored his plea, knowing that Dr. Thorne was their best hope in unraveling the mysteries that now lay before them.\\n\"Dr. Thorne, it\\'s Jack,\" his voice echoed through the communication device, the tension palpable even through the crackling connection. \"We need your insight urgently. The artifact we found... it defies all known scientific explanations.\" Jack\\'s words hung in the air, waiting for the expertise only Dr. Thorne could provide. \\n\\nOn the other end, in the bustling research center, Dr. Thorne\\'s eyes widened at Jack\\'s cryptic message. \"I\\'ll mobilize the team immediately,\" her voice conveyed a mix of excitement and apprehension. \"Stay safe, Jack. We\\'re on our way.\" The professional bond between them solidified in moments of uncertainty, their shared dedication to unraveling the universe\\'s enigmas binding them together in the face of the extraordinary.\\nAs Jack awaited Dr. Thorne\\'s team, the weight of their discovery pressed upon him like the lunar gravity itself. The artifact\\'s implications loomed large, its mysterious properties hinting at technologies far beyond human comprehension. If unleashed on Earth, it could revolutionize or devastate entire industries. The lunar mining project, once a beacon of progress, now stood at the precipice of uncertainty. Jack\\'s thoughts raced with the potential consequences, knowing that the fate of both worlds rested on deciphering the artifact\\'s enigmatic secrets. The silence of the lunar surface amplified the gravity of their situation, underscoring the urgency of understanding the unearthly object before it was too late.\\nJack and Xander stood side by side on the desolate lunar surface, their eyes fixed on the horizon where Dr. Thorne\\'s team was expected to arrive. The weight of the artifact\\'s discovery hung heavy between them, casting a shadow of uncertainty over their mission. Each passing moment felt like an eternity as they awaited further instructions, the silence of the moon amplifying the tension in the air. Anticipation gripped them, mingling with a sense of foreboding as they grappled with the unknown implications of the unearthly object. In the vast expanse of the lunar landscape, their shared anxiety mirrored the gravity of the situation, underscoring the urgent need for answers before it was too late.\\nThe lunar surface stretched endlessly before Jack and Xander, a barren landscape devoid of life or solace. Craters dotted the horizon like scars, reminders of the moon\\'s violent past. The silence enveloped them, broken only by the soft hiss of their oxygen supply. Each footstep kicked up fine lunar dust, a stark contrast to the darkness of space above. The vastness of their surroundings amplified the weight of their mission, emphasizing the fragility of their existence in this harsh, unforgiving environment. Jack and Xander exchanged a knowing glance, a silent acknowledgment of the challenges and dangers that lay ahead, their resolve steeling against the isolation that threatened to consume them.\\nThe crunch of lunar soil beneath their boots echoed in the airless void, a stark reminder of their solitude on the desolate surface. Jack and Xander pressed on, their breaths visible in the cold lunar atmosphere, a ghostly dance dissipating into the darkness. The silence weighed heavy, punctuated only by the rhythmic thud of their footsteps. Each movement stirred up fine particles, creating a swirling haze around them. Despite the vast expanse of emptiness, a sense of unity enveloped the two astronauts as they navigated the unforgiving terrain, their shared determination a beacon in the lunar night.\\nJack\\'s gaze hardened as he surveyed the lunar horizon, his determination unwavering despite the looming threat of rival miners. The discovery they had unearthed held the key to unlocking mysteries of the universe, and Jack was resolute in safeguarding it at all costs. With each step, his resolve deepened, a silent promise etched in the lunar soil beneath his boots. The weight of responsibility bore down on his shoulders, but he stood tall, a lone sentinel against the vast expanse of space. In the face of potential conflict, Jack\\'s unwavering commitment to protect the discovery burned brightly, a fierce flame in the darkness of the lunar night.\\nAs Jack\\'s eyes scanned the lunar surface, a sense of foreboding crept over him. The tranquility of space belied the lurking dangers that awaited him and Xander. Corporate greed and betrayal loomed like shadows, threatening to engulf their mission in darkness. Jack clenched his fists, steeling himself for the challenges ahead. The discovery they protected was a beacon of knowledge, coveted by those who sought to exploit it for personal gain. With each passing moment, the weight of their task grew heavier, the fragile balance between discovery and deception hanging in the balance. Jack knew that their journey through this treacherous landscape would test not only their skills but also their loyalty to each other.\\nAs Jack\\'s gaze lingered on the alien artifact, a shiver ran down his spine. The object, pulsating with an otherworldly glow, whispered enigmatic secrets that stirred his curiosity. Its intricate patterns seemed to shift and dance, hinting at a knowledge beyond human comprehension. Jack\\'s mind raced with questions, each more tantalizing than the last. What ancient civilization had crafted this marvel? What powers lay dormant within its cryptic design? The artifact\\'s presence on the desolate lunar surface was a harbinger of mysteries waiting to be unraveled, a puzzle that beckoned him into a realm of discovery and danger. In its silent allure, Jack sensed a foreboding warning, a prelude to revelations that would reshape their understanding of the universe.\\nAs Jack reached out a trembling hand towards the pulsating artifact, a sudden rumble beneath his feet startled him. The lunar surface quivered, sending shockwaves through the dust. A low, ominous hum filled the air, drowning out even the sound of Jack\\'s racing heartbeat. The artifact\\'s glow intensified, casting eerie shadows across the barren landscape. Jack\\'s eyes widened in both fear and wonder, realizing that their presence had disturbed something ancient and powerful. Before he could react, the ground split open with a deafening roar, revealing a yawning abyss that seemed to lead into the very heart of the moon itself. With a sinking feeling, Jack knew that whatever lay beyond would test not only his courage but the limits of human understanding.\\n'"
            ]
          },
          "execution_count": 5,
          "metadata": {},
          "output_type": "execute_result"
        }
      ],
      "source": [
        "beatbot.generate_story(verbose= True)"
      ]
    },
    {
      "cell_type": "markdown",
      "metadata": {
        "id": "8aixLG2V2Pm1"
      },
      "source": [
        "### **Part 2: Incorporating Story Metadata**\n",
        "\n",
        "Now we want to extend the functionality of Beats-to-Prose to accept a few new parameters:\n",
        "- a list of characters (name and details about them)\n",
        "- setting\n",
        "- genre\n",
        "- style of prose and have that alter the generated prose.\n",
        "\n",
        "Describe in detail your approach to this. Some things to consider:\n",
        "\n",
        "1. What models would you use? Why?\n",
        "2. If you need to procure data, how would go about doing that? How would you prepare the data?\n",
        "3. What is your approach to producing prose that matches the parameters?\n",
        "\n",
        "How would you evaluate whether the generations are good quality and fit the parameters specified?\n",
        "Consider cost and latency considerations"
      ]
    },
    {
      "cell_type": "code",
      "execution_count": 5,
      "metadata": {
        "id": "8AICkMgY2xhj"
      },
      "outputs": [],
      "source": [
        "# Write your solution for alterations here. Feel free to make methods or classes to do so\n"
      ]
    },
    {
      "cell_type": "markdown",
      "metadata": {},
      "source": [
        "Input looks like:\n",
        "\n",
        "```\n",
        "{\n",
        "}\n",
        "```\n"
      ]
    },
    {
      "cell_type": "markdown",
      "metadata": {
        "id": "0JOCCCGL22I2"
      },
      "source": [
        "## **Part 3: Describe how you might turn this code into an API**\n",
        "\n",
        "Imagine you have a working protoype and would like the application team to start using your solution. You can assume you are using the FastAPI framework or something similar. You can use psuedocode for this exercise.\n",
        "\n",
        "1. What would a hander look like, and what parameters would it receive?"
      ]
    },
    {
      "cell_type": "code",
      "execution_count": null,
      "metadata": {
        "id": "AHGh-CJb3UH6"
      },
      "outputs": [],
      "source": [
        "# Write your solution for the handler here You don't have to run this cell\n",
        "from fastapi import FastAPI\n",
        "from fastapi.routing import APIRoute\n",
        "\n",
        "app = FastAPI()\n",
        "\n",
        "@app.post(\"\")\n",
        "async def beat_to_prose_generation():\n",
        "    return []\n"
      ]
    }
  ],
  "metadata": {
    "colab": {
      "provenance": []
    },
    "kernelspec": {
      "display_name": ".venv",
      "language": "python",
      "name": "python3"
    },
    "language_info": {
      "codemirror_mode": {
        "name": "ipython",
        "version": 3
      },
      "file_extension": ".py",
      "mimetype": "text/x-python",
      "name": "python",
      "nbconvert_exporter": "python",
      "pygments_lexer": "ipython3",
      "version": "3.12.4"
    }
  },
  "nbformat": 4,
  "nbformat_minor": 0
}
