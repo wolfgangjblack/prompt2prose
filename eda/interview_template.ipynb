{
  "cells": [
    {
      "cell_type": "code",
      "execution_count": 1,
      "metadata": {
        "id": "NzonkeYuyQab"
      },
      "outputs": [],
      "source": [
        "# Initialize OpenAI (if Needed)\n",
        "import sys\n",
        "\n",
        "# Add the parent directory to the system path\n",
        "sys.path.append('..')\n",
        "\n",
        "from utils import story_pipeline\n"
      ]
    },
    {
      "cell_type": "markdown",
      "metadata": {
        "id": "ijHdY8Ay0QMe"
      },
      "source": [
        "## Prose Generation Coding Task\n",
        "\n",
        "The challenge involves creating a backend system that transforms a series of bulleted \"beats\" into well-crafted prose that you would find in a novel. This tool is designed to aid writers in fleshing out as scene based on their outlines.\n",
        "\n",
        "**Part 1: Beats-to-Prose**\n",
        "Given a set of story beats, like this set for a sci-fi chapter:\n",
        "\n",
        "1. Begin the chapter with Jack and Xander continuing their excavation on the lunar surface,\n",
        "creating a sense of tension and anticipation.\n",
        "2. Describe the barren landscape of the moon, emphasizing its desolation and the isolation\n",
        "felt by Jack and Xander.\n",
        "3. Use vivid and descriptive language to portray the moment when Jack and Xander uncover\n",
        "an alien artifact, highlighting its mysterious and otherworldly appearance.\n",
        "4. Convey Jack's excitement and trepidation as he realizes the significance of the discovery\n",
        "and the potential implications it holds for humanity.\n",
        "5. Show Jack immediately contacting Dr. Selene Thorne, emphasizing his trust in her and the\n",
        "urgency of the situation.\n",
        "6. Include dialogue between Jack and Dr. Thorne, showcasing their professional relationship\n",
        "and the gravity of the situation.\n",
        "7. Highlight the importance of the discovery and the potential consequences it could have on\n",
        "Earth and the lunar mining project.\n",
        "8. Show Jack and Xander waiting anxiously for further instructions from Dr. Thorne, creating a\n",
        "sense of anticipation and uncertainty.\n",
        "9. Emphasize the isolation and vastness of the lunar landscape, reinforcing the challenges\n",
        "and dangers that Jack and Xander face.\n",
        "10. Use sensory details to immerse the reader in the lunar environment, such as the crunch of\n",
        "lunar soil beneath their boots and the cold, airless atmosphere.\n",
        "11. Portray Jack's determination and resolve to protect the discovery, even in the face of\n",
        "potential conflict with rival miners.\n",
        "12. Hint at the potential dangers and obstacles that Jack and Xander may encounter as they\n",
        "navigate through a world of corporate greed and betrayal.\n",
        "13. Foreshadow the secrets and mysteries that the alien artifact holds, building intrigue and\n",
        "anticipation for future chapters.\n",
        "14. End the chapter with a cliffhanger or unresolved tension, leaving the reader eager to\n",
        "continue reading and discover what happens next.\n",
        "\n",
        "Use these beats to produce ~1500 words of prose that matches these beats - in other words, if\n",
        "a human were to summarize the prose, they would produce something along the lines of these\n",
        "beats. It's okay to hallucinate details if they are missing from the beats in order to create the\n",
        "narrative. Target approximately 100-150 words of output per beat. You are allowed to use any LLM or NLP techniques, including open source and closed source services like GPT or Claude.\n",
        "\n",
        "\n"
      ]
    },
    {
      "cell_type": "code",
      "execution_count": 3,
      "metadata": {
        "id": "9yk71CWe0wky"
      },
      "outputs": [],
      "source": [
        "# Test Input\n",
        "TEST_BEATS_INPUT = [\n",
        "    \"Begin the chapter with Jack and Xander continuing their excavation on the lunar surface, creating a sense of tension and anticipation.\",\n",
        "    \"Describe the barren landscape of the moon, emphasizing its desolation and the isolation felt by Jack and Xander.\",\n",
        "    \"Use vivid and descriptive language to portray the moment when Jack and Xander uncover an alien artifact, highlighting its mysterious and otherworldly appearance.\",\n",
        "    \"Convey Jack's excitement and trepidation as he realizes the significance of the discovery and the potential implications it holds for humanity.\",\n",
        "    \"Show Jack immediately contacting Dr. Selene Thorne, emphasizing his trust in her and the urgency of the situation.\",\n",
        "    \"Include dialogue between Jack and Dr. Thorne, showcasing their professional relationship and the gravity of the situation.\",\n",
        "    \"Highlight the importance of the discovery and the potential consequences it could have on Earth and the lunar mining project.\",\n",
        "    \"Show Jack and Xander waiting anxiously for further instructions from Dr. Thorne, creating a sense of anticipation and uncertainty.\",\n",
        "    \"Emphasize the isolation and vastness of the lunar landscape, reinforcing the challenges and dangers that Jack and Xander face.\",\n",
        "    \"Use sensory details to immerse the reader in the lunar environment, such as the crunch of lunar soil beneath their boots and the cold, airless atmosphere.\",\n",
        "    \"Portray Jack's determination and resolve to protect the discovery, even in the face of potential conflict with rival miners.\",\n",
        "    \"Hint at the potential dangers and obstacles that Jack and Xander may encounter as they navigate through a world of corporate greed and betrayal.\",\n",
        "    \"Foreshadow the secrets and mysteries that the alien artifact holds, building intrigue and anticipation for future chapters.\",\n",
        "    \"End the chapter with a cliffhanger or unresolved tension, leaving the reader eager to continue reading and discover what happens next.\"\n",
        "]\n",
        "\n",
        "# Write your solution here. Feel free to make methods or classes to do so"
      ]
    },
    {
      "cell_type": "markdown",
      "metadata": {},
      "source": [
        "## Agentic with context"
      ]
    },
    {
      "cell_type": "code",
      "execution_count": 4,
      "metadata": {},
      "outputs": [
        {
          "name": "stdout",
          "output_type": "stream",
          "text": [
            "working on beat 0\n",
            "Inconsistency detected; regenerating passage...\n",
            "\n",
            "Length requirement not met; regenerating passage...\n",
            "\n",
            "Inconsistency detected; regenerating passage...\n",
            "\n",
            "Inconsistency detected; regenerating passage...\n",
            "\n",
            "Inconsistency detected; regenerating passage...\n",
            "\n",
            "Inconsistency detected; regenerating passage...\n",
            "\n",
            "Inconsistency detected; regenerating passage...\n",
            "\n",
            "Length requirement not met; regenerating passage...\n",
            "\n",
            "Length requirement not met; regenerating passage...\n",
            "\n",
            "Length requirement not met; regenerating passage...\n",
            "\n",
            "Max attempts reached for beats 1. Accepting the last generated passage.\n",
            "working on beat 1\n",
            "working on beat 2\n",
            "working on beat 3\n",
            "Inconsistency detected; regenerating passage...\n",
            "\n",
            "working on beat 4\n",
            "working on beat 5\n",
            "Inconsistency detected; regenerating passage...\n",
            "\n",
            "Inconsistency detected; regenerating passage...\n",
            "\n",
            "Inconsistency detected; regenerating passage...\n",
            "\n",
            "Inconsistency detected; regenerating passage...\n",
            "\n",
            "Inconsistency detected; regenerating passage...\n",
            "\n",
            "Inconsistency detected; regenerating passage...\n",
            "\n",
            "working on beat 6\n",
            "Inconsistency detected; regenerating passage...\n",
            "\n",
            "working on beat 7\n",
            "Inconsistency detected; regenerating passage...\n",
            "\n",
            "Inconsistency detected; regenerating passage...\n",
            "\n",
            "Inconsistency detected; regenerating passage...\n",
            "\n",
            "Inconsistency detected; regenerating passage...\n",
            "\n",
            "Length requirement not met; regenerating passage...\n",
            "\n",
            "working on beat 8\n",
            "working on beat 9\n",
            "working on beat 10\n",
            "working on beat 11\n",
            "working on beat 12\n"
          ]
        }
      ],
      "source": [
        "edited_story, total_cost = story_pipeline(TEST_BEATS_INPUT, max_attempts=10)"
      ]
    },
    {
      "cell_type": "code",
      "execution_count": 5,
      "metadata": {},
      "outputs": [
        {
          "name": "stdout",
          "output_type": "stream",
          "text": [
            "0.028066500000000005\n",
            "Jack and Xander's tools clinked against the lunar surface, the metallic echoes amplifying the tension between them. As they dug deeper, the desolate landscape stretched endlessly, a stark reminder of their isolation. The barren expanse seemed to swallow their voices, emphasizing the weight of their mission. With each scoop of moon dust, the anticipation grew, mirroring the vast unknown that lay before them. The silence of space enveloped them, a constant companion in their quest for discovery.\n",
            "\n",
            "Delving into the lunar soil, Jack's careful precision unearthed an alien artifact, shimmering with an ethereal glow. The artifact pulsated softly, casting an iridescent sheen over the desolate landscape. Its intricate carvings seemed to tell a story of a civilization long forgotten, a tale of cosmic wonders and ancient mysteries. Xander's breath caught in awe as they beheld the artifact's otherworldly beauty, a silent witness to the secrets of the universe waiting to be unraveled on the barren moon. The discovery filled them with a mix of trepidation and wonder, marking a turning point in their mission of exploration.\n",
            "\n",
            "Jack's hands trembled with a mix of excitement and trepidation as he cradled the alien artifact. Its unearthly glow seemed to whisper secrets of the cosmos, filling him with a sense of awe and responsibility. The weight of this discovery pressed upon him, realizing the profound implications it held for humanity. As he exchanged a glance with Xander, their eyes mirrored a shared understanding of the monumental moment they were witnessing. The artifact was not just a relic; it was a key to unlocking mysteries that could reshape the very fabric of human knowledge. In that silent exchange, Jack knew their mission had transcended mere exploration; it had become a quest for enlightenment and a journey into the unknown depths of the universe.\n",
            "\n",
            "Jack's heart raced as he reached for his communication device, his fingers flying over the familiar buttons. Dr. Selene Thorne's face materialized on the screen, her expression a mix of surprise and concern.\n",
            "\n",
            "\"Dr. Thorne,\" Jack began urgently, \"I need your expertise more than ever. We've made a discovery of unparalleled significance here on the lunar surface. I trust in your wisdom to guide us through the implications of this artifact. Time is of the essence.\"\n",
            "\n",
            "Dr. Thorne's eyes widened at Jack's words, understanding the gravity of his message. With a nod of determination, she replied, \"I'll mobilize the team immediately. We'll unravel this mystery together, Jack. Stay safe.\"\n",
            "\n",
            "The connection closed, leaving Jack with a renewed sense of purpose as he prepared to delve deeper into the enigmatic secrets of the cosmos.\n",
            "\n",
            "Awaiting Dr. Thorne's next communication, a flicker of light on his console signaled her response. \"Jack, our team is en route to the lunar surface. The artifact you've discovered could redefine our understanding of the universe,\" Dr. Thorne's voice conveyed a mix of excitement and caution.\n",
            "\n",
            "\"Thank you, Dr. Thorne. Your expertise is invaluable in unraveling this cosmic enigma,\" Jack acknowledged gratefully, his respect for her unwavering.\n",
            "\n",
            "\"We'll approach this discovery with the utmost care and precision. Together, we'll unlock its secrets,\" Dr. Thorne assured, their shared dedication to exploration binding them in purpose across the vast expanse of space.\n",
            "\n",
            "Examining the mysterious artifact on the lunar surface, Jack felt a sense of awe wash over him. Its intricate design hinted at technologies far beyond human comprehension. The implications of this discovery weighed heavily on his mind - could this unearthed relic revolutionize Earth's technological advancements or disrupt the delicate balance of the lunar mining project?\n",
            "\n",
            "Dr. Thorne's voice crackled through the communication link, her tone laced with a mix of anticipation and concern. \"Jack, the artifact's potential impact on Earth and our lunar operations is unprecedented. We must proceed with caution and consider every angle before unveiling its secrets to the world.\"\n",
            "\n",
            "The gravity of their find loomed large, casting a shadow of uncertainty over their mission as they stood at the precipice of a discovery that could alter the course of history.\n",
            "\n",
            "Jack and Xander exchanged nervous glances on the barren lunar surface, their suits reflecting the stark light. With the artifact's enigmatic presence between them, the weight of anticipation hung heavy in the air. Dr. Thorne's voice crackled once more, breaking the tense silence.\n",
            "\n",
            "\"Jack, Xander, standby for further analysis. The artifact's energy readings are fluctuating unpredictably. We need to proceed with caution,\" Dr. Thorne's words echoed in their helmets, amplifying the uncertainty that gripped them.\n",
            "\n",
            "As they waited for instructions, the vastness of space seemed to magnify the significance of their discovery, heightening the sense of anticipation and the unknown that lay ahead.\n",
            "\n",
            "The lunar surface stretched endlessly around Dr. Thorne, emphasizing the isolation engulfing Jack and Xander. The vastness whispered of dangers lurking in the shadows of craters and behind jagged rocks. Dr. Thorne's instructions crackled through the comm once more, a lifeline in this desolate expanse.\n",
            "\n",
            "\"Jack, Xander, remain vigilant. The lunar landscape conceals unknown threats. Proceed with utmost caution,\" Dr. Thorne's voice echoed, a stark reminder of the perilous environment surrounding them. As the weight of their mission pressed down, the astronauts braced themselves for the challenges ahead, knowing that every step on the moon could lead to unforeseen dangers.\n",
            "\n",
            "Dr. Thorne's words hung heavy in the airless lunar expanse as Dr. Thorne scanned the horizon, the only movement the slow dance of distant stars. Each step on the powdery surface sent a shiver through his suit, the crunch of lunar soil beneath his boots a stark reminder of the alien world he navigated. The cold seeped through the layers of his protective gear, a constant companion in this desolate realm where sound was swallowed by the vacuum. Dr. Thorne's breath fogged his visor, a ghostly reminder of his presence in this vast, unforgiving landscape. The astronauts' senses heightened, attuned to the subtlest shift in the lunar environment as they ventured forth, their every movement a careful dance with the unknown.\n",
            "\n",
            "Jack's gaze hardened as he surveyed the lunar horizon, his resolve unwavering despite the vastness of the desolate landscape. The discovery they safeguarded was a beacon of hope in the darkness, a prize coveted by rival miners lurking on the lunar surface. Every step he took, every breath he drew within his suit, echoed his determination to protect their find at all costs. The crunch of lunar soil beneath his boots seemed to amplify his resolve, a stark reminder of the stakes at hand. Jack's grip tightened on the case containing the precious samples, his every movement a silent declaration of defiance against any who dared challenge their claim in this unforgiving realm.\n",
            "\n",
            "As Jack stood on the lunar surface, a chilling thought crept into his mind - the tranquility of space masked the lurking dangers of corporate greed and betrayal. The vast expanse around him held secrets and threats, with rival miners driven by insatiable avarice ready to pounce at any moment. Jack's pulse quickened beneath his suit as he imagined the shadows concealing potential adversaries, each rock and crater a potential ambush point. The weight of their discovery felt heavier now, not just a beacon of hope but a target on their backs in a world where trust was scarce and deception thrived. Jack's eyes scanned the horizon warily, knowing that their journey through this treacherous lunar landscape would test not only their skills but also their bond as comrades in the face of impending peril.\n",
            "\n",
            "As Jack's gaze lingered on the lunar horizon, a sense of foreboding crept over him. The alien artifact they sought held mysteries that whispered through the lunar winds, stirring ancient secrets that lay dormant for eons. Each step they took on the lunar surface felt like a dance with the unknown, a delicate balance between unlocking the artifact's enigma and awakening forces beyond their comprehension. Jack's mind raced with questions, each more tantalizing and perilous than the last, as the artifact's allure beckoned with a siren's call, promising both enlightenment and danger in equal measure. In the silence of space, the artifact's presence loomed large, a harbinger of revelations that could reshape their understanding of the cosmos.\n",
            "\n",
            "As Jack's hand trembled with anticipation, he reached out to touch the pulsating alien artifact. A surge of energy coursed through him, connecting his mind to a vast cosmic intelligence. Visions of distant galaxies and long-forgotten civilizations flooded his consciousness, overwhelming him with a profound sense of awe and dread. The artifact's power was beyond anything he had imagined, a Pandora's box of knowledge and peril waiting to be unleashed. With a final, hesitant breath, Jack made his choice, unaware of the irreversible consequences his actions would set in motion. The lunar surface seemed to hold its breath, echoing the silent scream of impending revelation as the artifact's glow intensified, casting a haunting shadow over the desolate landscape.\n",
            "1473\n"
          ]
        }
      ],
      "source": [
        "print(total_cost)\n",
        "print(edited_story)\n",
        "\n",
        "print(len(edited_story.split()))"
      ]
    },
    {
      "cell_type": "markdown",
      "metadata": {
        "id": "8aixLG2V2Pm1"
      },
      "source": [
        "### **Part 2: Incorporating Story Metadata**\n",
        "\n",
        "Now we want to extend the functionality of Beats-to-Prose to accept a few new parameters:\n",
        "- a list of characters (name and details about them)\n",
        "- setting\n",
        "- genre\n",
        "- style of prose and have that alter the generated prose.\n",
        "\n",
        "Describe in detail your approach to this. Some things to consider:\n",
        "\n",
        "1. What models would you use? Why?\n",
        "2. If you need to procure data, how would go about doing that? How would you prepare the data?\n",
        "3. What is your approach to producing prose that matches the parameters?\n",
        "\n",
        "How would you evaluate whether the generations are good quality and fit the parameters specified?\n",
        "Consider cost and latency considerations"
      ]
    },
    {
      "cell_type": "code",
      "execution_count": 13,
      "metadata": {
        "id": "8AICkMgY2xhj"
      },
      "outputs": [],
      "source": [
        "# Write your solution for alterations here. Feel free to make methods or classes to do so"
      ]
    },
    {
      "cell_type": "markdown",
      "metadata": {
        "id": "0JOCCCGL22I2"
      },
      "source": [
        "## **Part 3: Describe how you might turn this code into an API**\n",
        "\n",
        "Imagine you have a working protoype and would like the application team to start using your solution. You can assume you are using the FastAPI framework or something similar. You can use psuedocode for this exercise.\n",
        "\n",
        "1. What would a hander look like, and what parameters would it receive?"
      ]
    },
    {
      "cell_type": "code",
      "execution_count": null,
      "metadata": {
        "id": "AHGh-CJb3UH6"
      },
      "outputs": [],
      "source": [
        "# Write your solution for the handler here You don't have to run this cell\n",
        "from fastapi import FastAPI\n",
        "from fastapi.routing import APIRoute\n",
        "\n",
        "app = FastAPI()\n",
        "\n",
        "@app.post(\"\")\n",
        "async def beat_to_prose_generation():\n",
        "    return []\n"
      ]
    }
  ],
  "metadata": {
    "colab": {
      "provenance": []
    },
    "kernelspec": {
      "display_name": ".venv",
      "language": "python",
      "name": "python3"
    },
    "language_info": {
      "codemirror_mode": {
        "name": "ipython",
        "version": 3
      },
      "file_extension": ".py",
      "mimetype": "text/x-python",
      "name": "python",
      "nbconvert_exporter": "python",
      "pygments_lexer": "ipython3",
      "version": "3.12.4"
    }
  },
  "nbformat": 4,
  "nbformat_minor": 0
}
