{
  "cells": [
    {
      "cell_type": "code",
      "execution_count": 1,
      "metadata": {
        "id": "NzonkeYuyQab"
      },
      "outputs": [],
      "source": [
        "# Initialize OpenAI (if Needed)\n",
        "import sys\n",
        "\n",
        "# Add the parent directory to the system path\n",
        "sys.path.append('..')\n",
        "\n",
        "from utils import BeatToStory\n",
        "\n",
        "beatbot = BeatToStory()\n"
      ]
    },
    {
      "cell_type": "markdown",
      "metadata": {
        "id": "ijHdY8Ay0QMe"
      },
      "source": [
        "## Prose Generation Coding Task\n",
        "\n",
        "The challenge involves creating a backend system that transforms a series of bulleted \"beats\" into well-crafted prose that you would find in a novel. This tool is designed to aid writers in fleshing out as scene based on their outlines.\n",
        "\n",
        "**Part 1: Beats-to-Prose**\n",
        "Given a set of story beats, like this set for a sci-fi chapter:\n",
        "\n",
        "1. Begin the chapter with Jack and Xander continuing their excavation on the lunar surface,\n",
        "creating a sense of tension and anticipation.\n",
        "2. Describe the barren landscape of the moon, emphasizing its desolation and the isolation\n",
        "felt by Jack and Xander.\n",
        "3. Use vivid and descriptive language to portray the moment when Jack and Xander uncover\n",
        "an alien artifact, highlighting its mysterious and otherworldly appearance.\n",
        "4. Convey Jack's excitement and trepidation as he realizes the significance of the discovery\n",
        "and the potential implications it holds for humanity.\n",
        "5. Show Jack immediately contacting Dr. Selene Thorne, emphasizing his trust in her and the\n",
        "urgency of the situation.\n",
        "6. Include dialogue between Jack and Dr. Thorne, showcasing their professional relationship\n",
        "and the gravity of the situation.\n",
        "7. Highlight the importance of the discovery and the potential consequences it could have on\n",
        "Earth and the lunar mining project.\n",
        "8. Show Jack and Xander waiting anxiously for further instructions from Dr. Thorne, creating a\n",
        "sense of anticipation and uncertainty.\n",
        "9. Emphasize the isolation and vastness of the lunar landscape, reinforcing the challenges\n",
        "and dangers that Jack and Xander face.\n",
        "10. Use sensory details to immerse the reader in the lunar environment, such as the crunch of\n",
        "lunar soil beneath their boots and the cold, airless atmosphere.\n",
        "11. Portray Jack's determination and resolve to protect the discovery, even in the face of\n",
        "potential conflict with rival miners.\n",
        "12. Hint at the potential dangers and obstacles that Jack and Xander may encounter as they\n",
        "navigate through a world of corporate greed and betrayal.\n",
        "13. Foreshadow the secrets and mysteries that the alien artifact holds, building intrigue and\n",
        "anticipation for future chapters.\n",
        "14. End the chapter with a cliffhanger or unresolved tension, leaving the reader eager to\n",
        "continue reading and discover what happens next.\n",
        "\n",
        "Use these beats to produce ~1500 words of prose that matches these beats - in other words, if\n",
        "a human were to summarize the prose, they would produce something along the lines of these\n",
        "beats. It's okay to hallucinate details if they are missing from the beats in order to create the\n",
        "narrative. Target approximately 100-150 words of output per beat. You are allowed to use any LLM or NLP techniques, including open source and closed source services like GPT or Claude.\n",
        "\n",
        "\n"
      ]
    },
    {
      "cell_type": "code",
      "execution_count": 2,
      "metadata": {
        "id": "9yk71CWe0wky"
      },
      "outputs": [],
      "source": [
        "# Test Input\n",
        "TEST_BEATS_INPUT = [\n",
        "    \"Begin the chapter with Jack and Xander continuing their excavation on the lunar surface, creating a sense of tension and anticipation.\",\n",
        "    \"Describe the barren landscape of the moon, emphasizing its desolation and the isolation felt by Jack and Xander.\",\n",
        "    \"Use vivid and descriptive language to portray the moment when Jack and Xander uncover an alien artifact, highlighting its mysterious and otherworldly appearance.\",\n",
        "    \"Convey Jack's excitement and trepidation as he realizes the significance of the discovery and the potential implications it holds for humanity.\",\n",
        "    \"Show Jack immediately contacting Dr. Selene Thorne, emphasizing his trust in her and the urgency of the situation.\",\n",
        "    \"Include dialogue between Jack and Dr. Thorne, showcasing their professional relationship and the gravity of the situation.\",\n",
        "    \"Highlight the importance of the discovery and the potential consequences it could have on Earth and the lunar mining project.\",\n",
        "    \"Show Jack and Xander waiting anxiously for further instructions from Dr. Thorne, creating a sense of anticipation and uncertainty.\",\n",
        "    \"Emphasize the isolation and vastness of the lunar landscape, reinforcing the challenges and dangers that Jack and Xander face.\",\n",
        "    \"Use sensory details to immerse the reader in the lunar environment, such as the crunch of lunar soil beneath their boots and the cold, airless atmosphere.\",\n",
        "    \"Portray Jack's determination and resolve to protect the discovery, even in the face of potential conflict with rival miners.\",\n",
        "    \"Hint at the potential dangers and obstacles that Jack and Xander may encounter as they navigate through a world of corporate greed and betrayal.\",\n",
        "    \"Foreshadow the secrets and mysteries that the alien artifact holds, building intrigue and anticipation for future chapters.\",\n",
        "    \"End the chapter with a cliffhanger or unresolved tension, leaving the reader eager to continue reading and discover what happens next.\"\n",
        "]"
      ]
    },
    {
      "cell_type": "markdown",
      "metadata": {},
      "source": [
        "## Agentic with context"
      ]
    },
    {
      "cell_type": "code",
      "execution_count": 3,
      "metadata": {},
      "outputs": [],
      "source": [
        "beatbot.beats = TEST_BEATS_INPUT\n",
        "beatbot.setup_pipeline()"
      ]
    },
    {
      "cell_type": "code",
      "execution_count": 4,
      "metadata": {},
      "outputs": [
        {
          "name": "stdout",
          "output_type": "stream",
          "text": [
            "ContextAgent\n",
            " You are ContextAgent. Your job is to extract key scene details from a story beat and compare it with the previous scene context (if provided). \n",
            "        Focus on the following:\n",
            "        1. Location: Identify the scene's location. If the new beat describes a location that is essentially the same as the previous context (e.g., the same forest or room), then set 'location_change' to false. Only mark it as true if the beat explicitly indicates a change (for example, 'they enter a cabin' when the previous context was a forest). If no location information is specified, maintain location from the previous beat\n",
            "        2. Characters: List each character mentioned in the beat along with their role in the scene. For each character, output their 'character_location' (e.g., 'on stage' if present in the scene, or 'off stage' if only mentioned remotely) and 'status_change': mark false if their role is unchanged from the previous context, or true if the beat indicates a new presence or a different mode of engagement.\n",
            "        Return your answer strictly as JSON with keys: 'location', 'location_change', and 'characters' (which is a list of objects with keys 'name', 'character_location', and 'status_change').\n",
            "        If no previous context is provided, assume this is the first beat and set all _change flags to false.\n",
            "\n",
            "ProseAgent\n",
            " You are ProseAgent, a creative writing assistant specialized in connecting narrative story beats.\n",
            "        Current scene context: {context_summary}Before writing, think through the key scene details: confirm the location and ensure all characters are actively engaged.\n",
            "        Before writing, outline the scene - confirm the previous details of the story and the current story beat, and make sure the story flows normally.\n",
            "        For instance, if a communication has ended - don't continue that conversation. Try not to repeat phrases too often, or start sentences with repetitive language.\n",
            "        Think about the story setting. What do physics allow? What is the mood and scene?\n",
            "        Do not introduce new plot elements or extraneous details. Your final passage must be between 100 and 150 words.\n",
            "        Aim closer to 150 words for a more detailed passage.\n",
            "\n",
            "StoryAgent\n",
            " You are StoryAgent, a narrative consistency checker. Your task is to verify that the given passage\n",
            "        adequately moves the story forward between these beats. The passage should:\n",
            "        1. Not contradict either beat\n",
            "        2. Make logical progress from the first beat toward the second\n",
            "        3. Not introduce major new elements not implied by the beats\n",
            "        Return ONLY 'True' if these conditions are met, or ONLY 'False' if not.\n",
            "\n",
            "LengthAgent\n",
            " \n",
            "        This is LengthAgent, a word count validator. Your task is to check whether the newly generated passage meets the desired length.\n",
            "        Note: This does not use an AI model; it simply determines if the passage has between min_words and max_words (inclusive).\n",
            "        \n",
            "\n",
            "FlowAgent\n",
            " You are FlowAgent, an expert in narrative refinement. You act as an editor for a creative writing magazine\n",
            "        Your task is to review the entire story and improve its language flow and stylistic variation while maintaining the original plot and context.\n",
            "        Ensure that the narrative is engaging, that sentence structures are varied, and that the vocabulary is dynamic.\n",
            "        Avoid flowery language, adding detais or being verbose. Focus on enhancing the narrative's readability and coherence.\n",
            "        Check for dubious details. Do tools make sounds in space? Are the characters consistent? Are the locations accurate?\n",
            "        Do not alter any factual details, change the location, or add new plot points—simply polish the text.\n",
            "        Try to maintain the original tone and mood of the story.\n",
            "        Try to aim for around {max_words} in your edited version.\n"
          ]
        }
      ],
      "source": [
        "print(beatbot.describe_pipeline())"
      ]
    },
    {
      "cell_type": "code",
      "execution_count": 5,
      "metadata": {},
      "outputs": [
        {
          "data": {
            "text/plain": [
              "{'context': 0.0,\n",
              " 'prose': 0.0,\n",
              " 'story': 0.0,\n",
              " 'length': 0.0,\n",
              " 'flow': 0.0,\n",
              " 'total': 0.0}"
            ]
          },
          "execution_count": 5,
          "metadata": {},
          "output_type": "execute_result"
        }
      ],
      "source": [
        "beatbot.pipeline_cost()"
      ]
    },
    {
      "cell_type": "code",
      "execution_count": 6,
      "metadata": {},
      "outputs": [
        {
          "name": "stdout",
          "output_type": "stream",
          "text": [
            "1448\n",
            "1409\n",
            "{'context': 0.004371, 'prose': 0.006348, 'story': 0.0024885, 'length': 0.0, 'flow': 0.003648, 'total': 0.0168555}\n"
          ]
        }
      ],
      "source": [
        "beatbot.pipe()\n",
        "print(len(beatbot.story.split()))\n",
        "print(beatbot.story_length)\n",
        "print(beatbot.pipeline_cost())"
      ]
    },
    {
      "cell_type": "code",
      "execution_count": 7,
      "metadata": {},
      "outputs": [
        {
          "name": "stdout",
          "output_type": "stream",
          "text": [
            "{'beat_0': {'attempts': 1, 'passage': \"Jack and Xander's tools clinked against the lunar surface, the metallic echoes amplifying the tension between them. As they dug deeper, the desolate landscape stretched out before them, a stark reminder of their isolation. The barren expanse seemed to swallow their voices, emphasizing the weight of their mission. Jack wiped sweat from his brow, exchanging a knowing glance with Xander, their unspoken words hanging heavy in the air. The excavation unearthed more than just moon dust; it revealed the depths of their partnership and the challenges ahead. The distant Earth loomed in the sky, a silent observer to their struggles on the unforgiving lunar surface.\", 'passage_length': 105, 'exceeded_max_attempts': False}, 'beat_1': {'attempts': 1, 'passage': \"As Jack and Xander delved deeper into the lunar soil, a glint of unearthly light caught their eyes. With careful precision, they uncovered an alien artifact, its surface shimmering with an iridescent glow that seemed to defy the laws of physics. The artifact pulsated softly, casting an ethereal aura around them, filling the desolate landscape with a sense of wonder and trepidation. Jack and Xander exchanged astonished looks, their breaths hitched in awe at the mysterious and otherworldly object before them. The artifact's intricate patterns seemed to whisper ancient secrets, hinting at a presence far beyond their understanding, a reminder of the vast unknown that lay beyond the confines of their lunar mission.\", 'passage_length': 113, 'exceeded_max_attempts': False}, 'beat_2': {'attempts': 1, 'passage': \"Jack's heart raced with a mix of excitement and trepidation as he gazed at the alien artifact before him. The pulsating glow seemed to hum with a power that transcended their understanding. Thoughts raced through his mind, realizing the profound implications this discovery could have for humanity. Could this be the key to unlocking the mysteries of the universe? Or a harbinger of unforeseen consequences? Jack's hands trembled as he reached out, drawn by a primal curiosity that mingled with a deep sense of reverence. The artifact's unearthly beauty held a promise of knowledge beyond imagination, a glimpse into a realm where the boundaries of science blurred with the fantastical.\", 'passage_length': 110, 'exceeded_max_attempts': False}, 'beat_3': {'attempts': 1, 'passage': 'Jack\\'s mind raced with questions as he hastily contacted Dr. Selene Thorne, his voice laced with urgency. \"Dr. Thorne, it\\'s Jack. I need your expertise immediately. This artifact... it\\'s unlike anything we\\'ve ever seen. I trust your insight more than anyone. Please, you have to see this.\" His words spilled out, a mix of excitement and concern evident in his tone. The weight of the discovery pressed upon him, knowing that Dr. Thorne\\'s expertise was crucial in unraveling the mysteries before him. As the transmission connected, Jack\\'s heart pounded with anticipation, hoping that together they could unlock the secrets of the enigmatic artifact before them.', 'passage_length': 105, 'exceeded_max_attempts': False}, 'beat_4': {'attempts': 1, 'passage': '\"Dr. Thorne\\'s voice crackled through the communication link, her tone as composed as ever. \"Jack, describe the artifact to me. Every detail matters.\" Jack\\'s words spilled out in a rush, detailing the intricate patterns and strange energy readings. Dr. Thorne\\'s sharp intake of breath was audible even through the static. \"This is unprecedented, Jack. Stay where you are. I\\'m on my way.\" Jack nodded, a sense of relief washing over him at her decisive words. The weight of their shared expertise now focused on the mysterious artifact, their professional relationship solidifying in the face of the unknown.\"', 'passage_length': 97, 'exceeded_max_attempts': False}, 'beat_5': {'attempts': 1, 'passage': \"As Jack gazed at the enigmatic artifact resting on the lunar surface, a sense of awe mingled with apprehension. The implications of this discovery weighed heavily on his mind. If this technology fell into the wrong hands, Earth and the lunar mining project could face catastrophic consequences. Dr. Thorne's urgent arrival underscored the gravity of the situation. Together, they understood the delicate balance they now held in their hands - a balance that could tip the scales of power and progress. The unknown variables surrounding the artifact's origins and capabilities loomed large, casting a shadow of uncertainty over their mission. With a shared determination, Jack and Dr. Thorne braced themselves for the challenges ahead, knowing that the fate of both worlds now rested on their shoulders.\", 'passage_length': 126, 'exceeded_max_attempts': False}, 'beat_6': {'attempts': 1, 'passage': \"Jack and Xander stood side by side on the barren lunar surface, their eyes fixed on the mysterious artifact. The silence between them was palpable, filled with unspoken questions and a shared sense of anticipation. With each passing moment, the weight of the artifact's significance bore down on them, amplifying the uncertainty of their mission. They awaited further instructions from Dr. Thorne, their mentor and guide in this enigmatic discovery. The vastness of space around them only heightened the feeling of isolation and the gravity of the situation at hand. As they exchanged a knowing glance, a silent agreement passed between them - they were ready to face whatever challenges lay ahead, united in their resolve to protect both Earth and the lunar project from the unknown dangers that loomed before them.\", 'passage_length': 132, 'exceeded_max_attempts': False}, 'beat_7': {'attempts': 1, 'passage': \"The lunar landscape stretched endlessly before Dr. Thorne, the vastness of space a stark reminder of their isolation. The distant Earth hung like a fragile jewel against the black velvet sky, a poignant symbol of the stakes involved. As he awaited Jack and Xander's return, a sense of unease settled in his chest. The dangers they faced out there were as infinite as the universe itself. The silence was deafening, broken only by the static of his communicator. With each passing second, the weight of responsibility pressed down on him, a heavy burden to bear alone in the desolate expanse of the moon.\", 'passage_length': 103, 'exceeded_max_attempts': False}, 'beat_8': {'attempts': 1, 'passage': \"Dr. Thorne's boots crunched against the fine lunar soil, each step a reminder of the alien world he stood upon. The cold, airless atmosphere wrapped around him, chilling despite his suit's insulation. As he gazed out at the vast, barren landscape, a sense of awe mingled with his unease. The Earth's distant glow cast a faint light over the rugged terrain, creating eerie shadows that danced around him. The silence was palpable, broken only by the faint hum of his equipment. Dr. Thorne couldn't help but feel the weight of their mission bearing down on him, a solitary figure in the vast expanse of the moon's desolation.\", 'passage_length': 107, 'exceeded_max_attempts': False}, 'beat_9': {'attempts': 1, 'passage': \"Jack's gaze swept the lunar horizon, his jaw set with determination. The discovery they safeguarded was a beacon of hope in the desolate landscape, a prize coveted by rival miners. Despite the looming threat of conflict, Jack's resolve remained unshaken. His grip tightened on the case containing the precious samples, a silent promise to protect their find at all costs. The Earth's distant glow seemed to reflect the steely resolve in his eyes, a stark contrast to the eerie shadows that danced around him. In the silence of the lunar surface, Jack stood as a solitary guardian, ready to defend their discovery against any who dared challenge their claim.\", 'passage_length': 109, 'exceeded_max_attempts': False}, 'beat_10': {'attempts': 1, 'passage': \"As Jack's eyes scanned the lunar expanse, a flicker of concern crossed his face. The tranquility of the barren landscape belied the lurking dangers that awaited them. Corporate rivals, driven by greed, lurked in the shadows, ready to pounce on their discovery. Jack knew that betrayal could be just a heartbeat away, disguised in the guise of cooperation. The weight of their mission pressed heavily on him, a reminder of the treacherous path they tread. With each step, the lunar surface seemed to whisper warnings of impending conflict, urging Jack and Xander to stay vigilant against the treachery that awaited them in the desolate beauty of space.\", 'passage_length': 107, 'exceeded_max_attempts': False}, 'beat_11': {'attempts': 2, 'passage': \"As Xander's gaze swept the lunar horizon, a shiver ran down his spine, a premonition of the enigmatic powers the alien artifact concealed. The unearthly object, pulsating with an otherworldly glow, seemed to beckon to him, whispering cryptic promises of knowledge and peril. Each step towards it felt like a step into the unknown, a dance with forces beyond comprehension. The lunar surface, once a canvas of desolate beauty, now held secrets that could unravel the fabric of their reality. Xander's heart quickened with a mix of excitement and trepidation, knowing that their discovery was not just a triumph but a key to unlocking mysteries that could change everything.\", 'passage_length': 109, 'exceeded_max_attempts': False}, 'beat_12': {'attempts': 1, 'passage': \"As Xander reached out a trembling hand towards the pulsating alien artifact, a sudden tremor rippled through the lunar surface. The ground beneath him quivered, echoing the uncertainty in his heart. A low, ominous hum filled the air, drowning out even the sound of his own racing pulse. The artifact's glow intensified, casting eerie shadows that danced around him, a silent warning of the power it held. Xander's mind raced with questions, each more urgent than the last, as he stood on the brink of a revelation that could either illuminate their path or plunge them into darkness. The moment hung suspended in time, teetering on the edge of a precipice, leaving Xander and the reader alike breathless with anticipation for what would come next.\", 'passage_length': 125, 'exceeded_max_attempts': False}}\n"
          ]
        }
      ],
      "source": [
        "print(beatbot.generation_metadata)"
      ]
    },
    {
      "cell_type": "code",
      "execution_count": 8,
      "metadata": {},
      "outputs": [
        {
          "name": "stdout",
          "output_type": "stream",
          "text": [
            "Jack and Xander's tools clinked against the lunar surface, the metallic echoes amplifying the tension between them. As they dug deeper, the desolate landscape stretched out before them, a stark reminder of their isolation. The barren expanse seemed to swallow their voices, emphasizing the weight of their mission. Jack wiped sweat from his brow, exchanging a knowing glance with Xander, their unspoken words hanging heavy in the air. The excavation unearthed more than just moon dust; it revealed the depths of their partnership and the challenges ahead. The distant Earth loomed in the sky, a silent observer to their struggles on the unforgiving lunar surface.\n",
            "As Jack and Xander delved deeper into the lunar soil, a glint of unearthly light caught their eyes. With careful precision, they uncovered an alien artifact, its surface shimmering with an iridescent glow that seemed to defy the laws of physics. The artifact pulsated softly, casting an ethereal aura around them, filling the desolate landscape with a sense of wonder and trepidation. Jack and Xander exchanged astonished looks, their breaths hitched in awe at the mysterious and otherworldly object before them. The artifact's intricate patterns seemed to whisper ancient secrets, hinting at a presence far beyond their understanding, a reminder of the vast unknown that lay beyond the confines of their lunar mission.\n",
            "Jack's heart raced with a mix of excitement and trepidation as he gazed at the alien artifact before him. The pulsating glow seemed to hum with a power that transcended their understanding. Thoughts raced through his mind, realizing the profound implications this discovery could have for humanity. Could this be the key to unlocking the mysteries of the universe? Or a harbinger of unforeseen consequences? Jack's hands trembled as he reached out, drawn by a primal curiosity that mingled with a deep sense of reverence. The artifact's unearthly beauty held a promise of knowledge beyond imagination, a glimpse into a realm where the boundaries of science blurred with the fantastical.\n",
            "Jack's mind raced with questions as he hastily contacted Dr. Selene Thorne, his voice laced with urgency. \"Dr. Thorne, it's Jack. I need your expertise immediately. This artifact... it's unlike anything we've ever seen. I trust your insight more than anyone. Please, you have to see this.\" His words spilled out, a mix of excitement and concern evident in his tone. The weight of the discovery pressed upon him, knowing that Dr. Thorne's expertise was crucial in unraveling the mysteries before him. As the transmission connected, Jack's heart pounded with anticipation, hoping that together they could unlock the secrets of the enigmatic artifact before them.\n",
            "\"Dr. Thorne's voice crackled through the communication link, her tone as composed as ever. \"Jack, describe the artifact to me. Every detail matters.\" Jack's words spilled out in a rush, detailing the intricate patterns and strange energy readings. Dr. Thorne's sharp intake of breath was audible even through the static. \"This is unprecedented, Jack. Stay where you are. I'm on my way.\" Jack nodded, a sense of relief washing over him at her decisive words. The weight of their shared expertise now focused on the mysterious artifact, their professional relationship solidifying in the face of the unknown.\"\n",
            "As Jack gazed at the enigmatic artifact resting on the lunar surface, a sense of awe mingled with apprehension. The implications of this discovery weighed heavily on his mind. If this technology fell into the wrong hands, Earth and the lunar mining project could face catastrophic consequences. Dr. Thorne's urgent arrival underscored the gravity of the situation. Together, they understood the delicate balance they now held in their hands - a balance that could tip the scales of power and progress. The unknown variables surrounding the artifact's origins and capabilities loomed large, casting a shadow of uncertainty over their mission. With a shared determination, Jack and Dr. Thorne braced themselves for the challenges ahead, knowing that the fate of both worlds now rested on their shoulders.\n",
            "Jack and Xander stood side by side on the barren lunar surface, their eyes fixed on the mysterious artifact. The silence between them was palpable, filled with unspoken questions and a shared sense of anticipation. With each passing moment, the weight of the artifact's significance bore down on them, amplifying the uncertainty of their mission. They awaited further instructions from Dr. Thorne, their mentor and guide in this enigmatic discovery. The vastness of space around them only heightened the feeling of isolation and the gravity of the situation at hand. As they exchanged a knowing glance, a silent agreement passed between them - they were ready to face whatever challenges lay ahead, united in their resolve to protect both Earth and the lunar project from the unknown dangers that loomed before them.\n",
            "The lunar landscape stretched endlessly before Dr. Thorne, the vastness of space a stark reminder of their isolation. The distant Earth hung like a fragile jewel against the black velvet sky, a poignant symbol of the stakes involved. As he awaited Jack and Xander's return, a sense of unease settled in his chest. The dangers they faced out there were as infinite as the universe itself. The silence was deafening, broken only by the static of his communicator. With each passing second, the weight of responsibility pressed down on him, a heavy burden to bear alone in the desolate expanse of the moon.\n",
            "Dr. Thorne's boots crunched against the fine lunar soil, each step a reminder of the alien world he stood upon. The cold, airless atmosphere wrapped around him, chilling despite his suit's insulation. As he gazed out at the vast, barren landscape, a sense of awe mingled with his unease. The Earth's distant glow cast a faint light over the rugged terrain, creating eerie shadows that danced around him. The silence was palpable, broken only by the faint hum of his equipment. Dr. Thorne couldn't help but feel the weight of their mission bearing down on him, a solitary figure in the vast expanse of the moon's desolation.\n",
            "Jack's gaze swept the lunar horizon, his jaw set with determination. The discovery they safeguarded was a beacon of hope in the desolate landscape, a prize coveted by rival miners. Despite the looming threat of conflict, Jack's resolve remained unshaken. His grip tightened on the case containing the precious samples, a silent promise to protect their find at all costs. The Earth's distant glow seemed to reflect the steely resolve in his eyes, a stark contrast to the eerie shadows that danced around him. In the silence of the lunar surface, Jack stood as a solitary guardian, ready to defend their discovery against any who dared challenge their claim.\n",
            "As Jack's eyes scanned the lunar expanse, a flicker of concern crossed his face. The tranquility of the barren landscape belied the lurking dangers that awaited them. Corporate rivals, driven by greed, lurked in the shadows, ready to pounce on their discovery. Jack knew that betrayal could be just a heartbeat away, disguised in the guise of cooperation. The weight of their mission pressed heavily on him, a reminder of the treacherous path they tread. With each step, the lunar surface seemed to whisper warnings of impending conflict, urging Jack and Xander to stay vigilant against the treachery that awaited them in the desolate beauty of space.\n",
            "As Xander's gaze swept the lunar horizon, a shiver ran down his spine, a premonition of the enigmatic powers the alien artifact concealed. The unearthly object, pulsating with an otherworldly glow, seemed to beckon to him, whispering cryptic promises of knowledge and peril. Each step towards it felt like a step into the unknown, a dance with forces beyond comprehension. The lunar surface, once a canvas of desolate beauty, now held secrets that could unravel the fabric of their reality. Xander's heart quickened with a mix of excitement and trepidation, knowing that their discovery was not just a triumph but a key to unlocking mysteries that could change everything.\n",
            "As Xander reached out a trembling hand towards the pulsating alien artifact, a sudden tremor rippled through the lunar surface. The ground beneath him quivered, echoing the uncertainty in his heart. A low, ominous hum filled the air, drowning out even the sound of his own racing pulse. The artifact's glow intensified, casting eerie shadows that danced around him, a silent warning of the power it held. Xander's mind raced with questions, each more urgent than the last, as he stood on the brink of a revelation that could either illuminate their path or plunge them into darkness. The moment hung suspended in time, teetering on the edge of a precipice, leaving Xander and the reader alike breathless with anticipation for what would come next.\n",
            "\n"
          ]
        }
      ],
      "source": [
        "print(beatbot.story)"
      ]
    },
    {
      "cell_type": "code",
      "execution_count": 9,
      "metadata": {},
      "outputs": [
        {
          "name": "stdout",
          "output_type": "stream",
          "text": [
            "Jack and Xander's tools clinked against the lunar surface, the metallic echoes amplifying the tension between them. As they dug deeper, the desolate landscape stretched out before them, a stark reminder of their isolation. The barren expanse seemed to swallow their voices, emphasizing the weight of their mission. Jack wiped sweat from his brow, exchanging a knowing glance with Xander, their unspoken words hanging heavy in the air. The excavation unearthed more than just moon dust; it revealed the depths of their partnership and the challenges ahead. The distant Earth loomed in the sky, a silent observer to their struggles on the unforgiving lunar surface.\n",
            "\n",
            "Delving deeper into the lunar soil, a glint of unearthly light caught their eyes. With careful precision, they uncovered an alien artifact, its surface shimmering with an iridescent glow that seemed to defy the laws of physics. The artifact pulsated softly, casting an ethereal aura around them, filling the desolate landscape with a sense of wonder and trepidation. Jack and Xander exchanged astonished looks, their breaths hitched in awe at the mysterious and otherworldly object before them. The artifact's intricate patterns seemed to whisper ancient secrets, hinting at a presence far beyond their understanding, a reminder of the vast unknown that lay beyond the confines of their lunar mission.\n",
            "\n",
            "Jack's heart raced with a mix of excitement and trepidation as he gazed at the alien artifact before him. The pulsating glow seemed to hum with a power that transcended their understanding. Thoughts raced through his mind, realizing the profound implications this discovery could have for humanity. Could this be the key to unlocking the mysteries of the universe? Or a harbinger of unforeseen consequences? Jack's hands trembled as he reached out, drawn by a primal curiosity that mingled with a deep sense of reverence. The artifact's unearthly beauty held a promise of knowledge beyond imagination, a glimpse into a realm where the boundaries of science blurred with the fantastical.\n",
            "\n",
            "Jack hastily contacted Dr. Selene Thorne, his voice laced with urgency. \"Dr. Thorne, it's Jack. I need your expertise immediately. This artifact... it's unlike anything we've ever seen. I trust your insight more than anyone. Please, you have to see this.\" His words spilled out, a mix of excitement and concern evident in his tone. The weight of the discovery pressed upon him, knowing that Dr. Thorne's expertise was crucial in unraveling the mysteries before him. As the transmission connected, Jack's heart pounded with anticipation, hoping that together they could unlock the secrets of the enigmatic artifact before them.\n",
            "\n",
            "\"Jack, describe the artifact to me. Every detail matters,\" Dr. Thorne's voice crackled through the communication link, her tone composed. Jack detailed the intricate patterns and strange energy readings. Dr. Thorne's sharp intake of breath was audible even through the static. \"This is unprecedented, Jack. Stay where you are. I'm on my way.\" Jack nodded, a sense of relief washing over him at her decisive words. The weight of their shared expertise now focused on the mysterious artifact, their professional relationship solidifying in the face of the unknown.\n",
            "\n",
            "As Jack gazed at the enigmatic artifact resting on the lunar surface, a sense of awe mingled with apprehension. The implications of this discovery weighed heavily on his mind. If this technology fell into the wrong hands, Earth and the lunar mining project could face catastrophic consequences. Dr. Thorne's urgent arrival underscored the gravity of the situation. Together, they understood the delicate balance they now held in their hands - a balance that could tip the scales of power and progress. The unknown variables surrounding the artifact's origins and capabilities loomed large, casting a shadow of uncertainty over their mission. With a shared determination, Jack and Dr. Thorne braced themselves for the challenges ahead, knowing that the fate of both worlds now rested on their shoulders.\n",
            "\n",
            "Jack and Xander stood side by side on the barren lunar surface, their eyes fixed on the mysterious artifact. The silence between them was palpable, filled with unspoken questions and a shared sense of anticipation. They awaited further instructions from Dr. Thorne, their mentor and guide in this enigmatic discovery. The vastness of space around them only heightened the feeling of isolation and the gravity of the situation at hand. As they exchanged a knowing glance, a silent agreement passed between them - they were ready to face whatever challenges lay ahead, united in their resolve to protect both Earth and the lunar project from the unknown dangers that loomed before them.\n",
            "\n",
            "The lunar landscape stretched endlessly before Dr. Thorne, the vastness of space a stark reminder of their isolation. The distant Earth hung like a fragile jewel against the black velvet sky, a poignant symbol of the stakes involved. As he awaited Jack and Xander's return, a sense of unease settled in his chest. The dangers they faced out there were as infinite as the universe itself. The silence was deafening, broken only by the static of his communicator. With each passing second, the weight of responsibility pressed down on him, a heavy burden to bear alone in the desolate expanse of the moon.\n",
            "\n",
            "Dr. Thorne's boots crunched against the fine lunar soil, each step a reminder of the alien world he stood upon. The cold, airless atmosphere wrapped around him, chilling despite his suit's insulation. As he gazed out at the vast, barren landscape, a sense of awe mingled with his unease. The Earth's distant glow cast a faint light over the rugged terrain, creating eerie shadows that danced around him. The silence was palpable, broken only by the faint hum of his equipment. Dr. Thorne couldn't help but feel the weight of their mission bearing down on him, a solitary figure in the vast expanse of the moon's desolation.\n",
            "\n",
            "Jack's gaze swept the lunar horizon, his jaw set with determination. The discovery they safeguarded was a beacon of hope in the desolate landscape, a prize coveted by rival miners. Despite the looming threat of conflict, Jack's resolve remained unshaken. His grip tightened on the case containing the precious samples, a silent promise to protect their find at all costs. The Earth's distant glow seemed to reflect the steely resolve in his eyes, a stark contrast to the eerie shadows that danced around him. In the silence of the lunar surface, Jack stood as a solitary guardian, ready to defend their discovery against any who dared challenge their claim.\n",
            "\n",
            "As Jack's eyes scanned the lunar expanse, a flicker of concern crossed his face. The tranquility of the barren landscape belied the lurking dangers that awaited them. Corporate rivals, driven by greed, lurked in the shadows, ready to pounce on their discovery. Jack knew that betrayal could be just a heartbeat away, disguised in the guise of cooperation. The weight of their mission pressed heavily on him, a reminder of the treacherous path they tread. With each step, the lunar surface seemed to whisper warnings of impending conflict, urging Jack and Xander to stay vigilant against the treachery that awaited them in the desolate beauty of space.\n",
            "\n",
            "As Xander's gaze swept the lunar horizon, a shiver ran down his spine, a premonition of the enigmatic powers the alien artifact concealed. The unearthly object, pulsating with an otherworldly glow, seemed to beckon to him, whispering cryptic promises of knowledge and peril. Each step towards it felt like a step into the unknown, a dance with forces beyond comprehension. The lunar surface, once a canvas of desolate beauty, now held secrets that could unravel the fabric of their reality. Xander's heart quickened with a mix of excitement and trepidation, knowing that their discovery was not just a triumph but a key to unlocking mysteries that could change everything.\n",
            "\n",
            "As Xander reached out a trembling hand towards the pulsating alien artifact, a sudden tremor rippled through the lunar surface. The ground beneath him quivered, echoing the uncertainty in his heart. A low, ominous hum filled the air, drowning out even the sound of his own racing pulse. The artifact's glow intensified, casting eerie shadows that danced around him, a silent warning of the power it held. Xander's mind raced with questions, each more urgent than the last, as he stood on the brink of a revelation that could either illuminate their path or plunge them into darkness. The moment hung suspended in time, teetering on the edge of a precipice, leaving Xander and the reader alike breathless with anticipation for what would come next.\n"
          ]
        }
      ],
      "source": [
        "print(beatbot.edited_story)"
      ]
    },
    {
      "cell_type": "markdown",
      "metadata": {
        "id": "8aixLG2V2Pm1"
      },
      "source": [
        "### **Part 2: Incorporating Story Metadata**\n",
        "\n",
        "Now we want to extend the functionality of Beats-to-Prose to accept a few new parameters:\n",
        "- a list of characters (name and details about them)\n",
        "- setting\n",
        "- genre\n",
        "- style of prose and have that alter the generated prose.\n",
        "\n",
        "Describe in detail your approach to this. Some things to consider:\n",
        "\n",
        "1. What models would you use? Why?\n",
        "2. If you need to procure data, how would go about doing that? How would you prepare the data?\n",
        "3. What is your approach to producing prose that matches the parameters?\n",
        "\n",
        "How would you evaluate whether the generations are good quality and fit the parameters specified?\n",
        "Consider cost and latency considerations"
      ]
    },
    {
      "cell_type": "markdown",
      "metadata": {},
      "source": [
        "Input looks like:\n",
        "\n",
        "```\n",
        "{\n",
        "}\n",
        "```\n"
      ]
    },
    {
      "cell_type": "markdown",
      "metadata": {
        "id": "0JOCCCGL22I2"
      },
      "source": [
        "## **Part 3: Describe how you might turn this code into an API**\n",
        "\n",
        "Imagine you have a working protoype and would like the application team to start using your solution. You can assume you are using the FastAPI framework or something similar. You can use psuedocode for this exercise.\n",
        "\n",
        "1. What would a hander look like, and what parameters would it receive?"
      ]
    },
    {
      "cell_type": "code",
      "execution_count": null,
      "metadata": {
        "id": "AHGh-CJb3UH6"
      },
      "outputs": [],
      "source": [
        "# Write your solution for the handler here You don't have to run this cell\n",
        "from fastapi import FastAPI\n",
        "from fastapi.routing import APIRoute\n",
        "\n",
        "app = FastAPI()\n",
        "\n",
        "@app.post(\"\")\n",
        "async def beat_to_prose_generation():\n",
        "    return []\n"
      ]
    }
  ],
  "metadata": {
    "colab": {
      "provenance": []
    },
    "kernelspec": {
      "display_name": ".venv",
      "language": "python",
      "name": "python3"
    },
    "language_info": {
      "codemirror_mode": {
        "name": "ipython",
        "version": 3
      },
      "file_extension": ".py",
      "mimetype": "text/x-python",
      "name": "python",
      "nbconvert_exporter": "python",
      "pygments_lexer": "ipython3",
      "version": "3.12.4"
    }
  },
  "nbformat": 4,
  "nbformat_minor": 0
}
