{
  "cells": [
    {
      "cell_type": "markdown",
      "metadata": {},
      "source": [
        "Author: Wolfgang Black\n",
        "Date: 2/7/25"
      ]
    },
    {
      "cell_type": "markdown",
      "metadata": {
        "id": "ijHdY8Ay0QMe"
      },
      "source": [
        "## Prose Generation Coding Task\n",
        "\n",
        "The challenge involves creating a backend system that transforms a series of bulleted \"beats\" into well-crafted prose that you would find in a novel. This tool is designed to aid writers in fleshing out as scene based on their outlines.\n",
        "\n",
        "**Part 1: Beats-to-Prose**\n",
        "Given a set of story beats, like this set for a sci-fi chapter:\n",
        "\n",
        "1. Begin the chapter with Jack and Xander continuing their excavation on the lunar surface,\n",
        "creating a sense of tension and anticipation.\n",
        "2. Describe the barren landscape of the moon, emphasizing its desolation and the isolation\n",
        "felt by Jack and Xander.\n",
        "3. Use vivid and descriptive language to portray the moment when Jack and Xander uncover\n",
        "an alien artifact, highlighting its mysterious and otherworldly appearance.\n",
        "4. Convey Jack's excitement and trepidation as he realizes the significance of the discovery\n",
        "and the potential implications it holds for humanity.\n",
        "5. Show Jack immediately contacting Dr. Selene Thorne, emphasizing his trust in her and the\n",
        "urgency of the situation.\n",
        "6. Include dialogue between Jack and Dr. Thorne, showcasing their professional relationship\n",
        "and the gravity of the situation.\n",
        "7. Highlight the importance of the discovery and the potential consequences it could have on\n",
        "Earth and the lunar mining project.\n",
        "8. Show Jack and Xander waiting anxiously for further instructions from Dr. Thorne, creating a\n",
        "sense of anticipation and uncertainty.\n",
        "9. Emphasize the isolation and vastness of the lunar landscape, reinforcing the challenges\n",
        "and dangers that Jack and Xander face.\n",
        "10. Use sensory details to immerse the reader in the lunar environment, such as the crunch of\n",
        "lunar soil beneath their boots and the cold, airless atmosphere.\n",
        "11. Portray Jack's determination and resolve to protect the discovery, even in the face of\n",
        "potential conflict with rival miners.\n",
        "12. Hint at the potential dangers and obstacles that Jack and Xander may encounter as they\n",
        "navigate through a world of corporate greed and betrayal.\n",
        "13. Foreshadow the secrets and mysteries that the alien artifact holds, building intrigue and\n",
        "anticipation for future chapters.\n",
        "14. End the chapter with a cliffhanger or unresolved tension, leaving the reader eager to\n",
        "continue reading and discover what happens next.\n",
        "\n",
        "Use these beats to produce ~1500 words of prose that matches these beats - in other words, if\n",
        "a human were to summarize the prose, they would produce something along the lines of these\n",
        "beats. It's okay to hallucinate details if they are missing from the beats in order to create the\n",
        "narrative. Target approximately 100-150 words of output per beat. You are allowed to use any LLM or NLP techniques, including open source and closed source services like GPT or Claude.\n",
        "\n",
        "\n"
      ]
    },
    {
      "cell_type": "code",
      "execution_count": 1,
      "metadata": {
        "id": "9yk71CWe0wky"
      },
      "outputs": [],
      "source": [
        "# Test Input\n",
        "TEST_BEATS_INPUT = [\n",
        "    \"Begin the chapter with Jack and Xander continuing their excavation on the lunar surface, creating a sense of tension and anticipation.\",\n",
        "    \"Describe the barren landscape of the moon, emphasizing its desolation and the isolation felt by Jack and Xander.\",\n",
        "    \"Use vivid and descriptive language to portray the moment when Jack and Xander uncover an alien artifact, highlighting its mysterious and otherworldly appearance.\",\n",
        "    \"Convey Jack's excitement and trepidation as he realizes the significance of the discovery and the potential implications it holds for humanity.\",\n",
        "    \"Show Jack immediately contacting Dr. Selene Thorne, emphasizing his trust in her and the urgency of the situation.\",\n",
        "    \"Include dialogue between Jack and Dr. Thorne, showcasing their professional relationship and the gravity of the situation.\",\n",
        "    \"Highlight the importance of the discovery and the potential consequences it could have on Earth and the lunar mining project.\",\n",
        "    \"Show Jack and Xander waiting anxiously for further instructions from Dr. Thorne, creating a sense of anticipation and uncertainty.\",\n",
        "    \"Emphasize the isolation and vastness of the lunar landscape, reinforcing the challenges and dangers that Jack and Xander face.\",\n",
        "    \"Use sensory details to immerse the reader in the lunar environment, such as the crunch of lunar soil beneath their boots and the cold, airless atmosphere.\",\n",
        "    \"Portray Jack's determination and resolve to protect the discovery, even in the face of potential conflict with rival miners.\",\n",
        "    \"Hint at the potential dangers and obstacles that Jack and Xander may encounter as they navigate through a world of corporate greed and betrayal.\",\n",
        "    \"Foreshadow the secrets and mysteries that the alien artifact holds, building intrigue and anticipation for future chapters.\",\n",
        "    \"End the chapter with a cliffhanger or unresolved tension, leaving the reader eager to continue reading and discover what happens next.\"\n",
        "]"
      ]
    },
    {
      "cell_type": "markdown",
      "metadata": {},
      "source": [
        "## Solution to part I\n",
        "\n",
        "To solve this I created a mulitagenic workflow. I decided to utilize LLMs for the majority of this work, using OpenAI's gpt-3.5-turbo for this demo. I've been experimenting with agents and passing data through LLMs recently and wanted to try this instead of more traditional approaches. \n",
        "\n",
        "Multi-Agentic Workflow: \n",
        "1. We initialize `BeatToStory()` - which is the pipeline class containing our agents.\n",
        "2. The story beats, provided by the user, are passed into the BeatToStory instance \n",
        "3. We run `_.setup_pipe` which initializes the agents for the BeatToStory instance\n",
        "    - if a list is not provided, we assume a pipeline of `[ContextAgent, ProseAgent, StoryAgent, LengthAgent, FlowAgent]`\n",
        "4. `ContextAgent` reads through the beats, trying to identify key information, characters, setting, etc\n",
        "5. `ProseAgent` reads in the beats and the context linking two beats and writes prose to narratively connect the beats while maintaining context\n",
        "6. `StoryAgent` reviews the context and prose to verify that all the information was maintained and captured by the prose\n",
        "7. `LengthAgent` reviews the prose length and verifies we're within our `[min, max]` word count per prose\n",
        "8. `FlowAgent` acts as a final editor, rewriting the overall prose to prevent grammar or repetive language\n",
        "\n",
        "the `BeatToStory()` class also has methods to disclose cost of each agent (based on shared token costs) and whether each step of the prose was successful. \n",
        "\n",
        "Below we can see an example of how well it works. \n",
        "\n",
        "I also ran 20 samples, to determine if we're within our word count after the edits done by flow agent. The goal is to be around 1500 works (or 150 words per beat).\n"
      ]
    },
    {
      "cell_type": "code",
      "execution_count": 2,
      "metadata": {},
      "outputs": [],
      "source": [
        "# Note: OpenAI init was abstracted into the utils. please set an environment variable OPENAI_KEY to be accessible by `os.environ.get('OPENAI_KEY')`\n",
        "import sys\n",
        "sys.path.append('..') #only needed in notebook\n",
        "from utils import BeatToStory\n",
        "beatbot = BeatToStory()"
      ]
    },
    {
      "cell_type": "code",
      "execution_count": 3,
      "metadata": {},
      "outputs": [],
      "source": [
        "# beatbot.beats = TEST_BEATS_INPUT\n",
        "# beatbot.setup_pipeline()\n",
        "# print(beatbot.describe_pipeline())"
      ]
    },
    {
      "cell_type": "code",
      "execution_count": 4,
      "metadata": {},
      "outputs": [],
      "source": [
        "# beatbot.pipe()\n",
        "# print(len(beatbot.story.split()))\n",
        "# print(beatbot.story_length)\n",
        "# print(beatbot.pipeline_cost())\n",
        "# print(beatbot.edited_story)"
      ]
    },
    {
      "cell_type": "code",
      "execution_count": 5,
      "metadata": {},
      "outputs": [],
      "source": [
        "# for i in range(20):\n",
        "#     beatbot.pipe()\n",
        "#     print(f\"beatbot story gen {i}\")\n",
        "#     print(f\"length of unedited story: {len(beatbot.story.split())}\")\n",
        "#     print(f\"length of edited story: {beatbot.story_length}\")\n",
        "#     print('-'*50+'\\n')"
      ]
    },
    {
      "cell_type": "markdown",
      "metadata": {
        "id": "8aixLG2V2Pm1"
      },
      "source": [
        "### **Part 2: Incorporating Story Metadata**\n",
        "\n",
        "Now we want to extend the functionality of Beats-to-Prose to accept a few new parameters:\n",
        "- a list of characters (name and details about them)\n",
        "- setting\n",
        "- genre\n",
        "- style of prose and have that alter the generated prose.\n",
        "\n",
        "Describe in detail your approach to this. Some things to consider:\n",
        "\n",
        "1. What models would you use? Why?\n",
        "2. If you need to procure data, how would go about doing that? How would you prepare the data?\n",
        "3. What is your approach to producing prose that matches the parameters?\n",
        "\n",
        "How would you evaluate whether the generations are good quality and fit the parameters specified?\n",
        "Consider cost and latency considerations"
      ]
    },
    {
      "cell_type": "markdown",
      "metadata": {},
      "source": [
        "## Solution to Part II\n"
      ]
    },
    {
      "cell_type": "code",
      "execution_count": null,
      "metadata": {},
      "outputs": [],
      "source": [
        "from utils import ContextAgent, MetadataAgent, ProseAgent, StyleGenreAgent, StoryAgent, LengthAgent, FlowAgent\n",
        "\n",
        "metabot = BeatToStory()\n",
        "metabot.beats = TEST_BEATS_INPUT\n",
        "\n",
        "metabot.user_metadata = {\"setting\":\n",
        "        {\"location\": \"lunar surface\",\n",
        "         \"notes\": \"The Jack and Xander are alone. Dr. Thorne is in her lab. They are on the dark side of the moon\",\n",
        "        },\n",
        "    \"genre\": \"romance\",\n",
        "    \"style\": \"voltair - no punctuation\", \n",
        "    \"characters\": [\n",
        "        {\"name\": \"Jack\", \"profile\": \"An astronaut miner working on the moon. An educated adventure, he's working alongside Xander and Dr. Thorne searching the moon for precious metals. He's currently contracted to the Corp (a big pharma corp), but has a distrust of large companies. His main goal is to prevent the privatization of data that could help humanity. He's our main character loosely modeled off of Indian Jones\"},\n",
        "        {\"name\": \"Xander\", \"profile\": \"An astronaught miner working alongside Jack on the moon. Xander served in the British Royal Space Force and bounced around from career to career. He's got serious debts and a doubious history... Is he really trust worthy? He met Jack during one of Jacks expidition to the Sahara, where Jack saved his life. He's worked along side Jack any time Jacks needed support flying - whether that's terrestrial or beyond\"},\n",
        "        {\"name\": \"Dr. Selene Thorne\", \"Profile\": \"Selene Thorne is a brilliant Astrobiophysics. During her graduate program she discovered frequencies from deepspace that seemed to be bouncing off the moon. These frequencies seemingly contained the genetic code of the human race - and were set on repeat. Her lifes work has been to find some sign of those frequecies, how they're being broadcast, and from where. She's worked closely with Jack behind the scenes, trying to prevent evil pharam corps from privatizing the data and charging for the amazing potential medical advances. She has some private shared history with Jack - but the only sign of it in their interactions is deep trust.\"}]}\n",
        "\n",
        "metabot.agents = {\n",
        "                \"context\": ContextAgent(),\n",
        "                \"meta\": MetadataAgent(),\n",
        "                \"prose\": ProseAgent(min_words=metabot.min_words_per_beat, \n",
        "                             max_words=metabot.max_words_per_beat),\n",
        "                \"genre\": StyleGenreAgent(style_guide = metabot.genre),\n",
        "                \"style\": StyleGenreAgent(style_guide = metabot.style),\n",
        "                \"story\": StoryAgent(),\n",
        "                \"length\": LengthAgent(min_words=metabot.min_words_per_beat, \n",
        "                                    max_words=metabot.max_words_per_beat),\n",
        "                \"flow\": FlowAgent()\n",
        "            }\n",
        "\n",
        "metabot.pipe()\n",
        "print(len(metabot.story.split()))\n",
        "print(metabot.story_length)\n",
        "print(metabot.pipeline_cost())\n",
        "print(metabot.edited_story)"
      ]
    },
    {
      "cell_type": "markdown",
      "metadata": {
        "id": "0JOCCCGL22I2"
      },
      "source": [
        "## **Part 3: Describe how you might turn this code into an API**\n",
        "\n",
        "Imagine you have a working protoype and would like the application team to start using your solution. You can assume you are using the FastAPI framework or something similar. You can use psuedocode for this exercise.\n",
        "\n",
        "1. What would a hander look like, and what parameters would it receive?"
      ]
    },
    {
      "cell_type": "code",
      "execution_count": 9,
      "metadata": {
        "id": "AHGh-CJb3UH6"
      },
      "outputs": [],
      "source": [
        "# Write your solution for the handler here You don't have to run this cell\n",
        "from fastapi import FastAPI\n",
        "from fastapi.routing import APIRoute\n",
        "\n",
        "app = FastAPI()\n",
        "\n",
        "@app.post(\"\")\n",
        "async def beat_to_prose_generation():\n",
        "    return []\n"
      ]
    }
  ],
  "metadata": {
    "colab": {
      "provenance": []
    },
    "kernelspec": {
      "display_name": ".venv",
      "language": "python",
      "name": "python3"
    },
    "language_info": {
      "codemirror_mode": {
        "name": "ipython",
        "version": 3
      },
      "file_extension": ".py",
      "mimetype": "text/x-python",
      "name": "python",
      "nbconvert_exporter": "python",
      "pygments_lexer": "ipython3",
      "version": "3.12.4"
    }
  },
  "nbformat": 4,
  "nbformat_minor": 0
}
